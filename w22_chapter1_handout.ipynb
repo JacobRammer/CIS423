{
  "nbformat": 4,
  "nbformat_minor": 0,
  "metadata": {
    "kernelspec": {
      "display_name": "Python 3",
      "language": "python",
      "name": "python3"
    },
    "language_info": {
      "codemirror_mode": {
        "name": "ipython",
        "version": 3
      },
      "file_extension": ".py",
      "mimetype": "text/x-python",
      "name": "python",
      "nbconvert_exporter": "python",
      "pygments_lexer": "ipython3",
      "version": "3.7.3"
    },
    "colab": {
      "name": "Copy of w22_chapter1_handout",
      "provenance": [],
      "collapsed_sections": [],
      "include_colab_link": true
    }
  },
  "cells": [
    {
      "cell_type": "markdown",
      "metadata": {
        "id": "view-in-github",
        "colab_type": "text"
      },
      "source": [
        "<a href=\"https://colab.research.google.com/github/JacobRammer/CIS423/blob/main/w22_chapter1_handout.ipynb\" target=\"_parent\"><img src=\"https://colab.research.google.com/assets/colab-badge.svg\" alt=\"Open In Colab\"/></a>"
      ]
    },
    {
      "cell_type": "markdown",
      "metadata": {
        "id": "bzDiYMkiYgRS"
      },
      "source": [
        "<center>\n",
        "<h1>Chapter One</h1>\n",
        "</center>\n",
        "\n",
        "<hr>"
      ]
    },
    {
      "cell_type": "markdown",
      "metadata": {
        "id": "5Y1huouejzY5"
      },
      "source": [
        "#I. Software Engineering and Machine Learning\n",
        "<img src='https://www.dropbox.com/s/9fcc1crlxp19ijt/major_section.png?raw=1' width='300'>"
      ]
    },
    {
      "cell_type": "markdown",
      "metadata": {
        "id": "Eak7oBljJflj"
      },
      "source": [
        "##Let's set our goals\n",
        "\n",
        "Our goals will be to (1) build and explore machine learning algorithms and (2) take our results the last mile and put our hard work into a web-based production system.\n",
        "\n",
        "There are commerical tools that focus on this problem, e.g., [Streamlit](https://www.analyticsvidhya.com/blog/2021/06/streamlit-for-ml-web-applications-customers-propensity-to-purchase/) and [FastAI](https://towardsdatascience.com/detecting-deforestation-from-satellite-images-7aa6dfbd9f61), but they are limited. We will do things from the ground up to get exactly what we want. That's why we are in Computer Science :)\n"
      ]
    },
    {
      "cell_type": "markdown",
      "source": [
        "##Given 10 weeks, have to skip some things\n",
        "\n",
        "<img src='https://www.dropbox.com/s/7gpvkskejk5uzl5/Screen%20Shot%202021-12-26%20at%202.15.13%20PM.png?raw=1'>"
      ],
      "metadata": {
        "id": "EUKIR2Cu0z6Y"
      }
    },
    {
      "cell_type": "markdown",
      "metadata": {
        "id": "SESbYbE7A1IK"
      },
      "source": [
        "#Let me switch to a demo"
      ]
    },
    {
      "cell_type": "markdown",
      "metadata": {
        "id": "SX72WL6kBLlI"
      },
      "source": [
        "\n",
        "##Prerequisites\n",
        "\n",
        "We will be programming in Python for the most part. However, much of the action will be with Python libraries. So the real skill needed is to be able to read (online) library documentation, make sense of it, and put it to use.\n",
        "\n",
        "A second skill is debugging using stackoverflow or similar. You will get errors. Often from libraries. Debugging typically involves searching online for others who have run across similar errors.\n",
        "\n",
        "We will be doing javascript programming in the latter part of the course. However, I'll keep it simple. While I encourage you to take my simple frontends and gussy them up with fancy frontend libraries you know, that is optional. It could look good on your resume but not required for the course.\n",
        "\n",
        "There will be no expectation that you have had the CIS machine learning course. We will start from scratch."
      ]
    },
    {
      "cell_type": "markdown",
      "metadata": {
        "id": "Gl7J-ZPU-4xj"
      },
      "source": [
        "#II. The software engineering of model building\n",
        "\n",
        "A [recent article](https://www.oreilly.com/radar/mlops-and-devops-why-data-makes-it-different) notes that we need the idea of \"MLOps\":\n",
        "\n",
        "<quote>\n",
        "\"The DevOps movement in software engineering adopts well-defined processes, modern tooling, and automated workflows to streamline the process of moving from development to robust production deployments. Why can't we use MLOps to address struggles related to deploying machine learning in production too?\"\n",
        "</quote>\n",
        "\n",
        "Many of the steps of building and exploring machine learning models can be managed. We will look at the tools available to do this management.\n",
        "\n",
        "The end goal is to produce well-documented and easily-replicable machine learning pipelines that can be carried into production."
      ]
    },
    {
      "cell_type": "markdown",
      "metadata": {
        "id": "IiL8bbnhCT1p"
      },
      "source": [
        "## The software engineering bridge\n",
        "\n",
        "Somewhat unique to AI-based production systems, the bridge from model building and exploration to production system is under-studied. The vast majority of **publically** available work stops short of moving to production.\n",
        "\n",
        "In this class, we will consider what information we have to record during model building that allows us to build robust systems with real end-users. Some of this includes documentation of our exploration and building process. Some of it also includes meta-information that we glean during exploration.\n",
        "\n",
        "In summary, we will consider  what a user of an AI-based system needs to know. Can we just give them a prediction and call it a day? Hint: no. What further information can we provide? Can we explain our reasoning? Hint: yes."
      ]
    },
    {
      "cell_type": "markdown",
      "metadata": {
        "id": "TDfnl68it2V0"
      },
      "source": [
        "##Recent report on AI in industry\n",
        "\n",
        "See separate tab for how industry is using AI in its products."
      ]
    },
    {
      "cell_type": "markdown",
      "metadata": {
        "id": "bbAjbYBBb4Oq"
      },
      "source": [
        "#III. Where Are We?\n",
        "\n",
        "<left>\n",
        "<img src='https://www.centeredrecoveryprograms.com/wp-content/uploads/2017/12/you-are-here-map-pin-location-navigation-3-d-animation_s68bji6we_thumbnail-full08.png' height = 200>\n",
        "</left>\n",
        "\n",
        "I believe all of you have used jupyter notebooks in your courses. We will use it exclusivley in this course. Yes, I said exclusively. What??? How can you run a web server in a notebook? We will find out :)\n",
        "\n",
        "We will also be using Google Colab exclusively. Some of you may be less knowledgable about Colab. So let me give you the big picture.\n",
        "\n",
        "**Jupyter notebook** This is a web-based programming environment. A Jupyter notebook is not the same thing as Python.  One type of content is Python code, although you could use other programming languages in your Jupyter notebook. One of the great features of these notebooks is that you can share them with others. BTW: Jupyter was invented by 2 (non-cs) grad students in their spare time :)\n",
        "\n",
        "**Python runtime** This is often called the \"kernel\". The runtime is hooked into a Jupyter notebook. \n",
        "\n",
        "**Google colab** We will refer to this as a \"Colab Notebook.\" In some ways this is an alternative to a Docker image. It includes most of the libraries that we will need out of the box. And it is easy to install others. It gives us a CLI to the local linux OS. It gives us (temporary) local file store. And an easy way to extend that to the permanent file store of Google Drive. \n",
        "\n",
        "**Server farm** There is a good chance that your notebook and code are actually running in Google's server-farm in the Dalles, Oregon. \n",
        "Colab gives us access to CPUs and GPUs that run on that farm.\n",
        "<center><img src='https://lh3.googleusercontent.com/jazh9k5V944pGmE6ch-GMDzobLiz-z_y3yVXjC_O9NxIfkNNf4bFIg1hr1rfUiJ87dqVYZ2i4gr7bzYr6S-Q-oU6KCx1zIPj-X1_Bw=w800-l80-sg-rj-c0xffffff' height=200>\n",
        "</center>\n"
      ]
    },
    {
      "cell_type": "markdown",
      "metadata": {
        "id": "BFV785is2Ruk"
      },
      "source": [
        "So where are you at this very minute? You are working in a Jupyter notebook that is connected to a Python kernel, running on Google Colab housed in the cloud (possibly in the Beaver state). Nice!"
      ]
    },
    {
      "cell_type": "markdown",
      "metadata": {
        "id": "ukVljSkCjmg0"
      },
      "source": [
        "##How to turn in your notebook for grading\n",
        "\n",
        "I am going to conserve energy and reuse a video I produced for a more introductory course. I know you know most of this, so skip toward end if you want. It tells you how to get a link to turn in to Canvas for grading.\n",
        "\n",
        "[How to turn in homework.](https://uoregon.hosted.panopto.com/Panopto/Pages/Viewer.aspx?id=1e9a3050-5a56-4ce5-a14f-ac2b0171d607)\n",
        " \n",
        "\n",
        "\n"
      ]
    },
    {
      "cell_type": "markdown",
      "metadata": {
        "id": "i4ulUttLkLBY"
      },
      "source": [
        "<hr>\n",
        "<pre>\n",
        "\n",
        "\n",
        "</pre>\n",
        "#IV. Python review\n",
        "<img src='https://www.dropbox.com/s/9fcc1crlxp19ijt/major_section.png?raw=1' width='300'>\n",
        "\n",
        "I know you know Python. I just want to review a few ideas from Python that we will use heavily."
      ]
    },
    {
      "cell_type": "markdown",
      "metadata": {
        "id": "eEDirsBnN7rw"
      },
      "source": [
        "## f strings\n",
        "\n",
        "---\n",
        "We can build strings from pieces of text and python values. Let me show you."
      ]
    },
    {
      "cell_type": "code",
      "metadata": {
        "id": "MLHXyn8N-kwW",
        "colab": {
          "base_uri": "https://localhost:8080/",
          "height": 35
        },
        "outputId": "2e67d6df-7393-4d9d-f2a8-e611d21c842a"
      },
      "source": [
        "a_variable = 3\n",
        "f'The letter \"a\" appears {a_variable} times in this sentence.'"
      ],
      "execution_count": null,
      "outputs": [
        {
          "output_type": "execute_result",
          "data": {
            "application/vnd.google.colaboratory.intrinsic+json": {
              "type": "string"
            },
            "text/plain": [
              "'The letter \"a\" appears 3 times in this sentence.'"
            ]
          },
          "metadata": {},
          "execution_count": 1
        }
      ]
    },
    {
      "cell_type": "markdown",
      "metadata": {
        "id": "u8od5CmLOkRh"
      },
      "source": [
        "Without the f."
      ]
    },
    {
      "cell_type": "code",
      "metadata": {
        "id": "0uVhtbMnOoAf",
        "colab": {
          "base_uri": "https://localhost:8080/",
          "height": 35
        },
        "outputId": "d1b6b16c-bfbd-4f8c-f6b4-a7e4cba912f3"
      },
      "source": [
        "'The letter \"a\" appears {a_variable} times in this sentence.'"
      ],
      "execution_count": null,
      "outputs": [
        {
          "output_type": "execute_result",
          "data": {
            "application/vnd.google.colaboratory.intrinsic+json": {
              "type": "string"
            },
            "text/plain": [
              "'The letter \"a\" appears {a_variable} times in this sentence.'"
            ]
          },
          "metadata": {},
          "execution_count": 2
        }
      ]
    },
    {
      "cell_type": "markdown",
      "metadata": {
        "id": "Nl9I5w4Z5alZ"
      },
      "source": [
        "## assert statements\n",
        "\n",
        "I'll use these for both checking my work and as a replacement for a full type-checking system for functions I define.\n",
        "\n",
        "As reminder of the syntax, check this out."
      ]
    },
    {
      "cell_type": "code",
      "metadata": {
        "id": "Vs8qRdXx5ttx"
      },
      "source": [
        "a_condition = []\n",
        "assert a_condition, f'a_condition is {a_condition} instead of True'"
      ],
      "execution_count": null,
      "outputs": []
    },
    {
      "cell_type": "markdown",
      "metadata": {
        "id": "zG_RKrEh6Xel"
      },
      "source": [
        "If the condition evaluates to True, the assert is silent."
      ]
    },
    {
      "cell_type": "markdown",
      "metadata": {
        "id": "yJ7HXNVb6gvI"
      },
      "source": [
        "## asserts as type checkers\n",
        "\n",
        "I tend to use assert in function bodies as a workaround from lacking a robust typing system in Python. You have to be careful to ask your assert questions in general to specific order. You can see that in the example code below.\n",
        "\n",
        "1. Most generally, is `x` a list?\n",
        "2. Ok, is `x` non-empty?\n",
        "3. Ok, does `x` contain all inner lists?\n",
        "\n"
      ]
    },
    {
      "cell_type": "code",
      "metadata": {
        "id": "bxtkGTWS6p-G"
      },
      "source": [
        "#Note that type hints in Colab are just hints - no actual checking happens\n",
        "\n",
        "def first_in_list_of_lists(x:list)->list:\n",
        "  assert isinstance(x,list), f'expecting x to be list but is instead {type(x)}'\n",
        "  assert len(x)>0, f'expecting x to be non-empty'\n",
        "  assert all([isinstance(y, list) for y in x]), f'expecting x to be list of lists but is instead list of {type(x[0])}'\n",
        "  \n",
        "  return x[0]"
      ],
      "execution_count": null,
      "outputs": []
    },
    {
      "cell_type": "code",
      "metadata": {
        "id": "hFmNEQ4c8H2a",
        "colab": {
          "base_uri": "https://localhost:8080/",
          "height": 288
        },
        "outputId": "7a6faa9d-0002-49f0-bf42-ea8bcbda3d9e"
      },
      "source": [
        "first_in_list_of_lists(34)"
      ],
      "execution_count": null,
      "outputs": [
        {
          "output_type": "error",
          "ename": "AssertionError",
          "evalue": "ignored",
          "traceback": [
            "\u001b[0;31m---------------------------------------------------------------------------\u001b[0m",
            "\u001b[0;31mAssertionError\u001b[0m                            Traceback (most recent call last)",
            "\u001b[0;32m<ipython-input-4-7066d8b40640>\u001b[0m in \u001b[0;36m<module>\u001b[0;34m()\u001b[0m\n\u001b[0;32m----> 1\u001b[0;31m \u001b[0mfirst_in_list_of_lists\u001b[0m\u001b[0;34m(\u001b[0m\u001b[0;36m34\u001b[0m\u001b[0;34m)\u001b[0m\u001b[0;34m\u001b[0m\u001b[0;34m\u001b[0m\u001b[0m\n\u001b[0m",
            "\u001b[0;32m<ipython-input-3-e2f40ad67b12>\u001b[0m in \u001b[0;36mfirst_in_list_of_lists\u001b[0;34m(x)\u001b[0m\n\u001b[1;32m      2\u001b[0m \u001b[0;34m\u001b[0m\u001b[0m\n\u001b[1;32m      3\u001b[0m \u001b[0;32mdef\u001b[0m \u001b[0mfirst_in_list_of_lists\u001b[0m\u001b[0;34m(\u001b[0m\u001b[0mx\u001b[0m\u001b[0;34m:\u001b[0m\u001b[0mlist\u001b[0m\u001b[0;34m)\u001b[0m\u001b[0;34m->\u001b[0m\u001b[0mlist\u001b[0m\u001b[0;34m:\u001b[0m\u001b[0;34m\u001b[0m\u001b[0;34m\u001b[0m\u001b[0m\n\u001b[0;32m----> 4\u001b[0;31m   \u001b[0;32massert\u001b[0m \u001b[0misinstance\u001b[0m\u001b[0;34m(\u001b[0m\u001b[0mx\u001b[0m\u001b[0;34m,\u001b[0m\u001b[0mlist\u001b[0m\u001b[0;34m)\u001b[0m\u001b[0;34m,\u001b[0m \u001b[0;34mf'expecting x to be list but is instead {type(x)}'\u001b[0m\u001b[0;34m\u001b[0m\u001b[0;34m\u001b[0m\u001b[0m\n\u001b[0m\u001b[1;32m      5\u001b[0m   \u001b[0;32massert\u001b[0m \u001b[0mlen\u001b[0m\u001b[0;34m(\u001b[0m\u001b[0mx\u001b[0m\u001b[0;34m)\u001b[0m\u001b[0;34m>\u001b[0m\u001b[0;36m0\u001b[0m\u001b[0;34m,\u001b[0m \u001b[0;34mf'expecting x to be non-empty'\u001b[0m\u001b[0;34m\u001b[0m\u001b[0;34m\u001b[0m\u001b[0m\n\u001b[1;32m      6\u001b[0m   \u001b[0;32massert\u001b[0m \u001b[0mall\u001b[0m\u001b[0;34m(\u001b[0m\u001b[0;34m[\u001b[0m\u001b[0misinstance\u001b[0m\u001b[0;34m(\u001b[0m\u001b[0my\u001b[0m\u001b[0;34m,\u001b[0m \u001b[0mlist\u001b[0m\u001b[0;34m)\u001b[0m \u001b[0;32mfor\u001b[0m \u001b[0my\u001b[0m \u001b[0;32min\u001b[0m \u001b[0mx\u001b[0m\u001b[0;34m]\u001b[0m\u001b[0;34m)\u001b[0m\u001b[0;34m,\u001b[0m \u001b[0;34mf'expecting x to be list of lists but is instead list of {type(x[0])}'\u001b[0m\u001b[0;34m\u001b[0m\u001b[0;34m\u001b[0m\u001b[0m\n",
            "\u001b[0;31mAssertionError\u001b[0m: expecting x to be list but is instead <class 'int'>"
          ]
        }
      ]
    },
    {
      "cell_type": "code",
      "metadata": {
        "id": "WSvOBSr98SKL",
        "colab": {
          "base_uri": "https://localhost:8080/",
          "height": 288
        },
        "outputId": "ddfa8639-1f22-4750-d9f0-7604fad0f399"
      },
      "source": [
        "first_in_list_of_lists([])"
      ],
      "execution_count": null,
      "outputs": [
        {
          "output_type": "error",
          "ename": "AssertionError",
          "evalue": "ignored",
          "traceback": [
            "\u001b[0;31m---------------------------------------------------------------------------\u001b[0m",
            "\u001b[0;31mAssertionError\u001b[0m                            Traceback (most recent call last)",
            "\u001b[0;32m<ipython-input-5-e56127783c58>\u001b[0m in \u001b[0;36m<module>\u001b[0;34m()\u001b[0m\n\u001b[0;32m----> 1\u001b[0;31m \u001b[0mfirst_in_list_of_lists\u001b[0m\u001b[0;34m(\u001b[0m\u001b[0;34m[\u001b[0m\u001b[0;34m]\u001b[0m\u001b[0;34m)\u001b[0m\u001b[0;34m\u001b[0m\u001b[0;34m\u001b[0m\u001b[0m\n\u001b[0m",
            "\u001b[0;32m<ipython-input-3-e2f40ad67b12>\u001b[0m in \u001b[0;36mfirst_in_list_of_lists\u001b[0;34m(x)\u001b[0m\n\u001b[1;32m      3\u001b[0m \u001b[0;32mdef\u001b[0m \u001b[0mfirst_in_list_of_lists\u001b[0m\u001b[0;34m(\u001b[0m\u001b[0mx\u001b[0m\u001b[0;34m:\u001b[0m\u001b[0mlist\u001b[0m\u001b[0;34m)\u001b[0m\u001b[0;34m->\u001b[0m\u001b[0mlist\u001b[0m\u001b[0;34m:\u001b[0m\u001b[0;34m\u001b[0m\u001b[0;34m\u001b[0m\u001b[0m\n\u001b[1;32m      4\u001b[0m   \u001b[0;32massert\u001b[0m \u001b[0misinstance\u001b[0m\u001b[0;34m(\u001b[0m\u001b[0mx\u001b[0m\u001b[0;34m,\u001b[0m\u001b[0mlist\u001b[0m\u001b[0;34m)\u001b[0m\u001b[0;34m,\u001b[0m \u001b[0;34mf'expecting x to be list but is instead {type(x)}'\u001b[0m\u001b[0;34m\u001b[0m\u001b[0;34m\u001b[0m\u001b[0m\n\u001b[0;32m----> 5\u001b[0;31m   \u001b[0;32massert\u001b[0m \u001b[0mlen\u001b[0m\u001b[0;34m(\u001b[0m\u001b[0mx\u001b[0m\u001b[0;34m)\u001b[0m\u001b[0;34m>\u001b[0m\u001b[0;36m0\u001b[0m\u001b[0;34m,\u001b[0m \u001b[0;34mf'expecting x to be non-empty'\u001b[0m\u001b[0;34m\u001b[0m\u001b[0;34m\u001b[0m\u001b[0m\n\u001b[0m\u001b[1;32m      6\u001b[0m   \u001b[0;32massert\u001b[0m \u001b[0mall\u001b[0m\u001b[0;34m(\u001b[0m\u001b[0;34m[\u001b[0m\u001b[0misinstance\u001b[0m\u001b[0;34m(\u001b[0m\u001b[0my\u001b[0m\u001b[0;34m,\u001b[0m \u001b[0mlist\u001b[0m\u001b[0;34m)\u001b[0m \u001b[0;32mfor\u001b[0m \u001b[0my\u001b[0m \u001b[0;32min\u001b[0m \u001b[0mx\u001b[0m\u001b[0;34m]\u001b[0m\u001b[0;34m)\u001b[0m\u001b[0;34m,\u001b[0m \u001b[0;34mf'expecting x to be list of lists but is instead list of {type(x[0])}'\u001b[0m\u001b[0;34m\u001b[0m\u001b[0;34m\u001b[0m\u001b[0m\n\u001b[1;32m      7\u001b[0m \u001b[0;34m\u001b[0m\u001b[0m\n",
            "\u001b[0;31mAssertionError\u001b[0m: expecting x to be non-empty"
          ]
        }
      ]
    },
    {
      "cell_type": "code",
      "metadata": {
        "id": "oBAhKrv98X10",
        "colab": {
          "base_uri": "https://localhost:8080/",
          "height": 288
        },
        "outputId": "beaa009b-998f-4a04-e987-ee0a8d2719e8"
      },
      "source": [
        "first_in_list_of_lists([1,2,3])"
      ],
      "execution_count": null,
      "outputs": [
        {
          "output_type": "error",
          "ename": "AssertionError",
          "evalue": "ignored",
          "traceback": [
            "\u001b[0;31m---------------------------------------------------------------------------\u001b[0m",
            "\u001b[0;31mAssertionError\u001b[0m                            Traceback (most recent call last)",
            "\u001b[0;32m<ipython-input-6-e510faf5754d>\u001b[0m in \u001b[0;36m<module>\u001b[0;34m()\u001b[0m\n\u001b[0;32m----> 1\u001b[0;31m \u001b[0mfirst_in_list_of_lists\u001b[0m\u001b[0;34m(\u001b[0m\u001b[0;34m[\u001b[0m\u001b[0;36m1\u001b[0m\u001b[0;34m,\u001b[0m\u001b[0;36m2\u001b[0m\u001b[0;34m,\u001b[0m\u001b[0;36m3\u001b[0m\u001b[0;34m]\u001b[0m\u001b[0;34m)\u001b[0m\u001b[0;34m\u001b[0m\u001b[0;34m\u001b[0m\u001b[0m\n\u001b[0m",
            "\u001b[0;32m<ipython-input-3-e2f40ad67b12>\u001b[0m in \u001b[0;36mfirst_in_list_of_lists\u001b[0;34m(x)\u001b[0m\n\u001b[1;32m      4\u001b[0m   \u001b[0;32massert\u001b[0m \u001b[0misinstance\u001b[0m\u001b[0;34m(\u001b[0m\u001b[0mx\u001b[0m\u001b[0;34m,\u001b[0m\u001b[0mlist\u001b[0m\u001b[0;34m)\u001b[0m\u001b[0;34m,\u001b[0m \u001b[0;34mf'expecting x to be list but is instead {type(x)}'\u001b[0m\u001b[0;34m\u001b[0m\u001b[0;34m\u001b[0m\u001b[0m\n\u001b[1;32m      5\u001b[0m   \u001b[0;32massert\u001b[0m \u001b[0mlen\u001b[0m\u001b[0;34m(\u001b[0m\u001b[0mx\u001b[0m\u001b[0;34m)\u001b[0m\u001b[0;34m>\u001b[0m\u001b[0;36m0\u001b[0m\u001b[0;34m,\u001b[0m \u001b[0;34mf'expecting x to be non-empty'\u001b[0m\u001b[0;34m\u001b[0m\u001b[0;34m\u001b[0m\u001b[0m\n\u001b[0;32m----> 6\u001b[0;31m   \u001b[0;32massert\u001b[0m \u001b[0mall\u001b[0m\u001b[0;34m(\u001b[0m\u001b[0;34m[\u001b[0m\u001b[0misinstance\u001b[0m\u001b[0;34m(\u001b[0m\u001b[0my\u001b[0m\u001b[0;34m,\u001b[0m \u001b[0mlist\u001b[0m\u001b[0;34m)\u001b[0m \u001b[0;32mfor\u001b[0m \u001b[0my\u001b[0m \u001b[0;32min\u001b[0m \u001b[0mx\u001b[0m\u001b[0;34m]\u001b[0m\u001b[0;34m)\u001b[0m\u001b[0;34m,\u001b[0m \u001b[0;34mf'expecting x to be list of lists but is instead list of {type(x[0])}'\u001b[0m\u001b[0;34m\u001b[0m\u001b[0;34m\u001b[0m\u001b[0m\n\u001b[0m\u001b[1;32m      7\u001b[0m \u001b[0;34m\u001b[0m\u001b[0m\n\u001b[1;32m      8\u001b[0m   \u001b[0;32mreturn\u001b[0m \u001b[0mx\u001b[0m\u001b[0;34m[\u001b[0m\u001b[0;36m0\u001b[0m\u001b[0;34m]\u001b[0m\u001b[0;34m\u001b[0m\u001b[0;34m\u001b[0m\u001b[0m\n",
            "\u001b[0;31mAssertionError\u001b[0m: expecting x to be list of lists but is instead list of <class 'int'>"
          ]
        }
      ]
    },
    {
      "cell_type": "code",
      "metadata": {
        "id": "qwxPk74m8dnM",
        "colab": {
          "base_uri": "https://localhost:8080/"
        },
        "outputId": "4b14bdbc-bdef-43e8-cac4-f2be168514ec"
      },
      "source": [
        "first_in_list_of_lists([[1], [2]])"
      ],
      "execution_count": null,
      "outputs": [
        {
          "output_type": "execute_result",
          "data": {
            "text/plain": [
              "[1]"
            ]
          },
          "metadata": {},
          "execution_count": 7
        }
      ]
    },
    {
      "cell_type": "markdown",
      "metadata": {
        "id": "GTlC0H5E8rSO"
      },
      "source": [
        "##list comprehensions\n",
        "\n",
        "I much prefer these over for-loops. Sometimes you need a for-loop. But many times a list comprehension will suffice."
      ]
    },
    {
      "cell_type": "code",
      "metadata": {
        "id": "RuaKxhMi82jM",
        "colab": {
          "base_uri": "https://localhost:8080/"
        },
        "outputId": "788ed58f-2555-4969-95e9-f0a6a442f666"
      },
      "source": [
        "[i for i in range(10)]"
      ],
      "execution_count": null,
      "outputs": [
        {
          "output_type": "execute_result",
          "data": {
            "text/plain": [
              "[0, 1, 2, 3, 4, 5, 6, 7, 8, 9]"
            ]
          },
          "metadata": {},
          "execution_count": 8
        }
      ]
    },
    {
      "cell_type": "code",
      "metadata": {
        "id": "mMcLBKm88_f3",
        "colab": {
          "base_uri": "https://localhost:8080/"
        },
        "outputId": "23a70553-3ccd-4385-d486-58c4335ba3bb"
      },
      "source": [
        "[i if i%2==0 else -1 for i in range(10)]"
      ],
      "execution_count": null,
      "outputs": [
        {
          "output_type": "execute_result",
          "data": {
            "text/plain": [
              "[0, -1, 2, -1, 4, -1, 6, -1, 8, -1]"
            ]
          },
          "metadata": {},
          "execution_count": 9
        }
      ]
    },
    {
      "cell_type": "code",
      "metadata": {
        "id": "DtKHHsww9pRL",
        "colab": {
          "base_uri": "https://localhost:8080/"
        },
        "outputId": "0dd54be5-9541-41b6-c1a6-3e90098a876e"
      },
      "source": [
        "[i for i in range(10) if i%2==0]  #subtle - this one filters"
      ],
      "execution_count": null,
      "outputs": [
        {
          "output_type": "execute_result",
          "data": {
            "text/plain": [
              "[0, 2, 4, 6, 8]"
            ]
          },
          "metadata": {},
          "execution_count": 10
        }
      ]
    },
    {
      "cell_type": "code",
      "metadata": {
        "id": "vyU0RsZS9NuF",
        "colab": {
          "base_uri": "https://localhost:8080/"
        },
        "outputId": "b9b4834a-a9b5-4d44-d781-eb33e2d6cc4f"
      },
      "source": [
        "[a+b for a,b in zip([1,2,3], [4,5,6])]"
      ],
      "execution_count": null,
      "outputs": [
        {
          "output_type": "execute_result",
          "data": {
            "text/plain": [
              "[5, 7, 9]"
            ]
          },
          "metadata": {},
          "execution_count": 11
        }
      ]
    },
    {
      "cell_type": "markdown",
      "metadata": {
        "id": "L_1ZVHiOUoF9"
      },
      "source": [
        "<img src='https://www.dropbox.com/s/8x575mvbi1xumje/cash_line.png?raw=1' height=3 width=500><br>\n",
        "<img src='https://www.gannett-cdn.com/-mm-/56cbeec8287997813f287995de67747ba5e101d5/c=9-0-1280-718/local/-/media/2018/02/15/Phoenix/Phoenix/636542954131413889-image.jpg' height=50>\n",
        "The Python string replace method is broken! Everyone is scrambling to fix it. But you step up to help out. You write a function `temp_replace` that does the same thing (mostly).\n",
        "\n",
        "I'll simplify and constrain `old` to be a single character.\n"
      ]
    },
    {
      "cell_type": "markdown",
      "source": [
        "##Share with class (anonymously)\n",
        "\n",
        "When you are done, take a screenshot of your code (I use cmd-shift-4 on my mac to get sizable window). Then paste it on this page: https://app.mural.co/invitation/mural/cis4236034/1639511781261?sender=u173416b87b3b8c1cbe335790&key=3993cb03-56a9-4fe5-b4d9-6304e32ff459.\n",
        "\n",
        "Right click on the screen and import file. You will have to find your screenshot file on your computer. Then resize it if it is too big."
      ],
      "metadata": {
        "id": "invZjNTd9swL"
      }
    },
    {
      "cell_type": "code",
      "metadata": {
        "id": "22QduFMTAle6"
      },
      "source": [
        "def temp_replace(s:str, old:str, new:str) -> str:\n",
        "  #asserts below\n",
        "\n",
        "  return [new if i == old else i for i in s]\n",
        "  #body below - use list comprehension - remember old is a single character\n"
      ],
      "execution_count": null,
      "outputs": []
    },
    {
      "cell_type": "code",
      "metadata": {
        "id": "74XLHxJABCd2",
        "colab": {
          "base_uri": "https://localhost:8080/"
        },
        "outputId": "a692201f-510b-470e-aa51-7eba11fa5546"
      },
      "source": [
        "#test your function\n",
        "test_string = 'abcde'\n",
        "(temp_replace(test_string, 'd', 'z'), temp_replace(test_string, 'A', '4'))  #('abcze', 'abcde')"
      ],
      "execution_count": null,
      "outputs": [
        {
          "output_type": "execute_result",
          "data": {
            "text/plain": [
              "(['a', 'b', 'c', 'z', 'e'], ['a', 'b', 'c', 'd', 'e'])"
            ]
          },
          "metadata": {},
          "execution_count": 25
        }
      ]
    },
    {
      "cell_type": "markdown",
      "metadata": {
        "id": "DMOBLanJ-P8N"
      },
      "source": [
        "<hr>\n",
        "<pre>\n",
        "\n",
        "\n",
        "</pre>\n",
        "#V. The pandas library\n",
        "<img src='https://www.dropbox.com/s/9fcc1crlxp19ijt/major_section.png?raw=1' width='300'>\n",
        "\n",
        "pandas has lots of tools for exploring a tabular dataset. We will touch on a few of those tools before moving on."
      ]
    },
    {
      "cell_type": "code",
      "metadata": {
        "id": "h5hWakgj-4zn"
      },
      "source": [
        "import pandas as pd  #convention to use pd as nickname - follow it!"
      ],
      "execution_count": null,
      "outputs": []
    },
    {
      "cell_type": "markdown",
      "metadata": {
        "id": "b3xvrT36A0Bn"
      },
      "source": [
        "##url is way to go\n",
        "\n",
        "It may not always be possible, but if you can get a url for your data, pandas can use it for loading. Saves messing with file paths and reading in as file. Pretty slick.\n",
        "\n",
        "And good news. If you store your data on Dropbox or Google Drive or GitHub, you can get a url that pandas can use. I have yet to get a usable url from iCloud.\n",
        "\n",
        "Below, I am accessing data I have on my Google Drive. I could have also stored the data on GitHub and accessed the url from there. I like Drive a little better because it gives a good table editor for making manual changes."
      ]
    },
    {
      "cell_type": "code",
      "metadata": {
        "id": "ZKafFDa8-4zw"
      },
      "source": [
        "url = 'https://docs.google.com/spreadsheets/d/e/2PACX-1vQjIoC4LWfiuFmnix6TUAGSOPK29QMsn5Sb9DS73mNmMqikngNSG9ntmxHUO7ySZXTPpmoP8yAV0auz/pub?output=csv'  #plain old string I got from Google Sheets\n",
        "titanic_table = pd.read_csv(url)  #using pandas to read in an entire dataset - the coolest"
      ],
      "execution_count": null,
      "outputs": []
    },
    {
      "cell_type": "code",
      "metadata": {
        "id": "MhkNMAbhOrQs",
        "colab": {
          "base_uri": "https://localhost:8080/"
        },
        "outputId": "3fee3b74-71c2-4111-ec85-0320f0af42c2"
      },
      "source": [
        "len(titanic_table)"
      ],
      "execution_count": null,
      "outputs": [
        {
          "output_type": "execute_result",
          "data": {
            "text/plain": [
              "2208"
            ]
          },
          "metadata": {},
          "execution_count": 29
        }
      ]
    },
    {
      "cell_type": "code",
      "metadata": {
        "id": "Z3r1rxC7VxCc",
        "colab": {
          "base_uri": "https://localhost:8080/",
          "height": 337
        },
        "outputId": "f2e6e9b1-f6d6-49bc-e39c-5c5b8c22a031"
      },
      "source": [
        "titanic_table.head(5)  #print first 5 rows of the table"
      ],
      "execution_count": null,
      "outputs": [
        {
          "output_type": "execute_result",
          "data": {
            "text/html": [
              "\n",
              "  <div id=\"df-0a1964eb-8c60-4d7c-9cac-dbfe16aeb91a\">\n",
              "    <div class=\"colab-df-container\">\n",
              "      <div>\n",
              "<style scoped>\n",
              "    .dataframe tbody tr th:only-of-type {\n",
              "        vertical-align: middle;\n",
              "    }\n",
              "\n",
              "    .dataframe tbody tr th {\n",
              "        vertical-align: top;\n",
              "    }\n",
              "\n",
              "    .dataframe thead th {\n",
              "        text-align: right;\n",
              "    }\n",
              "</style>\n",
              "<table border=\"1\" class=\"dataframe\">\n",
              "  <thead>\n",
              "    <tr style=\"text-align: right;\">\n",
              "      <th></th>\n",
              "      <th>Name</th>\n",
              "      <th>Age</th>\n",
              "      <th>Gender</th>\n",
              "      <th>Class</th>\n",
              "      <th>Joined</th>\n",
              "      <th>Married</th>\n",
              "      <th>Survived</th>\n",
              "      <th>Fare</th>\n",
              "      <th>Bio</th>\n",
              "      <th>Occupation</th>\n",
              "      <th>Class/Dept</th>\n",
              "      <th>Cabin</th>\n",
              "      <th>Boat</th>\n",
              "      <th>Nationality</th>\n",
              "      <th>URL</th>\n",
              "    </tr>\n",
              "  </thead>\n",
              "  <tbody>\n",
              "    <tr>\n",
              "      <th>0</th>\n",
              "      <td>ABBING, Mr Anthony</td>\n",
              "      <td>41.0</td>\n",
              "      <td>Male</td>\n",
              "      <td>C3</td>\n",
              "      <td>Southampton</td>\n",
              "      <td>0.0</td>\n",
              "      <td>0</td>\n",
              "      <td>7.0</td>\n",
              "      <td>anthony abbing was born in cincinnati,...</td>\n",
              "      <td>Blacksmith</td>\n",
              "      <td>3rd Class Passenger</td>\n",
              "      <td>NaN</td>\n",
              "      <td>NaN</td>\n",
              "      <td>American</td>\n",
              "      <td>https://www.encyclopedia-titanica.org/titanic-...</td>\n",
              "    </tr>\n",
              "    <tr>\n",
              "      <th>1</th>\n",
              "      <td>ABBOTT, Mr Ernest Owen</td>\n",
              "      <td>21.0</td>\n",
              "      <td>Male</td>\n",
              "      <td>Crew</td>\n",
              "      <td>Southampton</td>\n",
              "      <td>0.0</td>\n",
              "      <td>0</td>\n",
              "      <td>0.0</td>\n",
              "      <td>ernest owen abbott was born in southam...</td>\n",
              "      <td>Lounge Pantry Steward</td>\n",
              "      <td>Victualling Crew</td>\n",
              "      <td>NaN</td>\n",
              "      <td>NaN</td>\n",
              "      <td>English</td>\n",
              "      <td>https://www.encyclopedia-titanica.org/titanic-...</td>\n",
              "    </tr>\n",
              "    <tr>\n",
              "      <th>2</th>\n",
              "      <td>ABBOTT, Mr Eugene Joseph</td>\n",
              "      <td>13.0</td>\n",
              "      <td>Male</td>\n",
              "      <td>C3</td>\n",
              "      <td>Southampton</td>\n",
              "      <td>NaN</td>\n",
              "      <td>0</td>\n",
              "      <td>20.0</td>\n",
              "      <td>\\tmaster eugene joseph abbott, 13,  w...</td>\n",
              "      <td>Scholar</td>\n",
              "      <td>3rd Class Passenger</td>\n",
              "      <td>NaN</td>\n",
              "      <td>NaN</td>\n",
              "      <td>American</td>\n",
              "      <td>https://www.encyclopedia-titanica.org/titanic-...</td>\n",
              "    </tr>\n",
              "    <tr>\n",
              "      <th>3</th>\n",
              "      <td>ABBOTT, Mr Rossmore Edward</td>\n",
              "      <td>16.0</td>\n",
              "      <td>Male</td>\n",
              "      <td>C3</td>\n",
              "      <td>Southampton</td>\n",
              "      <td>0.0</td>\n",
              "      <td>0</td>\n",
              "      <td>NaN</td>\n",
              "      <td>mr rossmore edward abbott, 16, of prov...</td>\n",
              "      <td>Jeweller</td>\n",
              "      <td>3rd Class Passenger</td>\n",
              "      <td>NaN</td>\n",
              "      <td>NaN</td>\n",
              "      <td>English, American</td>\n",
              "      <td>https://www.encyclopedia-titanica.org/titanic-...</td>\n",
              "    </tr>\n",
              "    <tr>\n",
              "      <th>4</th>\n",
              "      <td>ABELSON, Mr Samuel</td>\n",
              "      <td>NaN</td>\n",
              "      <td>Male</td>\n",
              "      <td>C2</td>\n",
              "      <td>Cherbourg</td>\n",
              "      <td>0.0</td>\n",
              "      <td>0</td>\n",
              "      <td>24.0</td>\n",
              "      <td>mr samuel abelson, 30, from russia, an...</td>\n",
              "      <td>NaN</td>\n",
              "      <td>2nd Class Passenger</td>\n",
              "      <td>NaN</td>\n",
              "      <td>NaN</td>\n",
              "      <td>Russian</td>\n",
              "      <td>https://www.encyclopedia-titanica.org/titanic-...</td>\n",
              "    </tr>\n",
              "  </tbody>\n",
              "</table>\n",
              "</div>\n",
              "      <button class=\"colab-df-convert\" onclick=\"convertToInteractive('df-0a1964eb-8c60-4d7c-9cac-dbfe16aeb91a')\"\n",
              "              title=\"Convert this dataframe to an interactive table.\"\n",
              "              style=\"display:none;\">\n",
              "        \n",
              "  <svg xmlns=\"http://www.w3.org/2000/svg\" height=\"24px\"viewBox=\"0 0 24 24\"\n",
              "       width=\"24px\">\n",
              "    <path d=\"M0 0h24v24H0V0z\" fill=\"none\"/>\n",
              "    <path d=\"M18.56 5.44l.94 2.06.94-2.06 2.06-.94-2.06-.94-.94-2.06-.94 2.06-2.06.94zm-11 1L8.5 8.5l.94-2.06 2.06-.94-2.06-.94L8.5 2.5l-.94 2.06-2.06.94zm10 10l.94 2.06.94-2.06 2.06-.94-2.06-.94-.94-2.06-.94 2.06-2.06.94z\"/><path d=\"M17.41 7.96l-1.37-1.37c-.4-.4-.92-.59-1.43-.59-.52 0-1.04.2-1.43.59L10.3 9.45l-7.72 7.72c-.78.78-.78 2.05 0 2.83L4 21.41c.39.39.9.59 1.41.59.51 0 1.02-.2 1.41-.59l7.78-7.78 2.81-2.81c.8-.78.8-2.07 0-2.86zM5.41 20L4 18.59l7.72-7.72 1.47 1.35L5.41 20z\"/>\n",
              "  </svg>\n",
              "      </button>\n",
              "      \n",
              "  <style>\n",
              "    .colab-df-container {\n",
              "      display:flex;\n",
              "      flex-wrap:wrap;\n",
              "      gap: 12px;\n",
              "    }\n",
              "\n",
              "    .colab-df-convert {\n",
              "      background-color: #E8F0FE;\n",
              "      border: none;\n",
              "      border-radius: 50%;\n",
              "      cursor: pointer;\n",
              "      display: none;\n",
              "      fill: #1967D2;\n",
              "      height: 32px;\n",
              "      padding: 0 0 0 0;\n",
              "      width: 32px;\n",
              "    }\n",
              "\n",
              "    .colab-df-convert:hover {\n",
              "      background-color: #E2EBFA;\n",
              "      box-shadow: 0px 1px 2px rgba(60, 64, 67, 0.3), 0px 1px 3px 1px rgba(60, 64, 67, 0.15);\n",
              "      fill: #174EA6;\n",
              "    }\n",
              "\n",
              "    [theme=dark] .colab-df-convert {\n",
              "      background-color: #3B4455;\n",
              "      fill: #D2E3FC;\n",
              "    }\n",
              "\n",
              "    [theme=dark] .colab-df-convert:hover {\n",
              "      background-color: #434B5C;\n",
              "      box-shadow: 0px 1px 3px 1px rgba(0, 0, 0, 0.15);\n",
              "      filter: drop-shadow(0px 1px 2px rgba(0, 0, 0, 0.3));\n",
              "      fill: #FFFFFF;\n",
              "    }\n",
              "  </style>\n",
              "\n",
              "      <script>\n",
              "        const buttonEl =\n",
              "          document.querySelector('#df-0a1964eb-8c60-4d7c-9cac-dbfe16aeb91a button.colab-df-convert');\n",
              "        buttonEl.style.display =\n",
              "          google.colab.kernel.accessAllowed ? 'block' : 'none';\n",
              "\n",
              "        async function convertToInteractive(key) {\n",
              "          const element = document.querySelector('#df-0a1964eb-8c60-4d7c-9cac-dbfe16aeb91a');\n",
              "          const dataTable =\n",
              "            await google.colab.kernel.invokeFunction('convertToInteractive',\n",
              "                                                     [key], {});\n",
              "          if (!dataTable) return;\n",
              "\n",
              "          const docLinkHtml = 'Like what you see? Visit the ' +\n",
              "            '<a target=\"_blank\" href=https://colab.research.google.com/notebooks/data_table.ipynb>data table notebook</a>'\n",
              "            + ' to learn more about interactive tables.';\n",
              "          element.innerHTML = '';\n",
              "          dataTable['output_type'] = 'display_data';\n",
              "          await google.colab.output.renderOutput(dataTable, element);\n",
              "          const docLink = document.createElement('div');\n",
              "          docLink.innerHTML = docLinkHtml;\n",
              "          element.appendChild(docLink);\n",
              "        }\n",
              "      </script>\n",
              "    </div>\n",
              "  </div>\n",
              "  "
            ],
            "text/plain": [
              "                         Name  ...                                                URL\n",
              "0          ABBING, Mr Anthony  ...  https://www.encyclopedia-titanica.org/titanic-...\n",
              "1      ABBOTT, Mr Ernest Owen  ...  https://www.encyclopedia-titanica.org/titanic-...\n",
              "2    ABBOTT, Mr Eugene Joseph  ...  https://www.encyclopedia-titanica.org/titanic-...\n",
              "3  ABBOTT, Mr Rossmore Edward  ...  https://www.encyclopedia-titanica.org/titanic-...\n",
              "4          ABELSON, Mr Samuel  ...  https://www.encyclopedia-titanica.org/titanic-...\n",
              "\n",
              "[5 rows x 15 columns]"
            ]
          },
          "metadata": {},
          "execution_count": 30
        }
      ]
    },
    {
      "cell_type": "code",
      "metadata": {
        "id": "9MUOA71eQ448",
        "colab": {
          "base_uri": "https://localhost:8080/",
          "height": 520
        },
        "outputId": "98e17ba7-d31d-49f6-e8f9-9ee112a451d1"
      },
      "source": [
        "titanic_table.describe(include='all').T  #Transpose table to make more readable"
      ],
      "execution_count": null,
      "outputs": [
        {
          "output_type": "execute_result",
          "data": {
            "text/html": [
              "\n",
              "  <div id=\"df-05c6c95f-6fd5-4d41-b830-36dcfbf906c0\">\n",
              "    <div class=\"colab-df-container\">\n",
              "      <div>\n",
              "<style scoped>\n",
              "    .dataframe tbody tr th:only-of-type {\n",
              "        vertical-align: middle;\n",
              "    }\n",
              "\n",
              "    .dataframe tbody tr th {\n",
              "        vertical-align: top;\n",
              "    }\n",
              "\n",
              "    .dataframe thead th {\n",
              "        text-align: right;\n",
              "    }\n",
              "</style>\n",
              "<table border=\"1\" class=\"dataframe\">\n",
              "  <thead>\n",
              "    <tr style=\"text-align: right;\">\n",
              "      <th></th>\n",
              "      <th>count</th>\n",
              "      <th>unique</th>\n",
              "      <th>top</th>\n",
              "      <th>freq</th>\n",
              "      <th>mean</th>\n",
              "      <th>std</th>\n",
              "      <th>min</th>\n",
              "      <th>25%</th>\n",
              "      <th>50%</th>\n",
              "      <th>75%</th>\n",
              "      <th>max</th>\n",
              "    </tr>\n",
              "  </thead>\n",
              "  <tbody>\n",
              "    <tr>\n",
              "      <th>Name</th>\n",
              "      <td>2208</td>\n",
              "      <td>2201</td>\n",
              "      <td>KELLY, Mr James</td>\n",
              "      <td>3</td>\n",
              "      <td>NaN</td>\n",
              "      <td>NaN</td>\n",
              "      <td>NaN</td>\n",
              "      <td>NaN</td>\n",
              "      <td>NaN</td>\n",
              "      <td>NaN</td>\n",
              "      <td>NaN</td>\n",
              "    </tr>\n",
              "    <tr>\n",
              "      <th>Age</th>\n",
              "      <td>2198</td>\n",
              "      <td>NaN</td>\n",
              "      <td>NaN</td>\n",
              "      <td>NaN</td>\n",
              "      <td>30.4527</td>\n",
              "      <td>12.2867</td>\n",
              "      <td>1</td>\n",
              "      <td>22</td>\n",
              "      <td>29</td>\n",
              "      <td>38</td>\n",
              "      <td>74</td>\n",
              "    </tr>\n",
              "    <tr>\n",
              "      <th>Gender</th>\n",
              "      <td>2208</td>\n",
              "      <td>2</td>\n",
              "      <td>Male</td>\n",
              "      <td>1719</td>\n",
              "      <td>NaN</td>\n",
              "      <td>NaN</td>\n",
              "      <td>NaN</td>\n",
              "      <td>NaN</td>\n",
              "      <td>NaN</td>\n",
              "      <td>NaN</td>\n",
              "      <td>NaN</td>\n",
              "    </tr>\n",
              "    <tr>\n",
              "      <th>Class</th>\n",
              "      <td>2207</td>\n",
              "      <td>4</td>\n",
              "      <td>Crew</td>\n",
              "      <td>950</td>\n",
              "      <td>NaN</td>\n",
              "      <td>NaN</td>\n",
              "      <td>NaN</td>\n",
              "      <td>NaN</td>\n",
              "      <td>NaN</td>\n",
              "      <td>NaN</td>\n",
              "      <td>NaN</td>\n",
              "    </tr>\n",
              "    <tr>\n",
              "      <th>Joined</th>\n",
              "      <td>2208</td>\n",
              "      <td>4</td>\n",
              "      <td>Southampton</td>\n",
              "      <td>1614</td>\n",
              "      <td>NaN</td>\n",
              "      <td>NaN</td>\n",
              "      <td>NaN</td>\n",
              "      <td>NaN</td>\n",
              "      <td>NaN</td>\n",
              "      <td>NaN</td>\n",
              "      <td>NaN</td>\n",
              "    </tr>\n",
              "    <tr>\n",
              "      <th>Married</th>\n",
              "      <td>2207</td>\n",
              "      <td>NaN</td>\n",
              "      <td>NaN</td>\n",
              "      <td>NaN</td>\n",
              "      <td>0.349796</td>\n",
              "      <td>0.477014</td>\n",
              "      <td>0</td>\n",
              "      <td>0</td>\n",
              "      <td>0</td>\n",
              "      <td>1</td>\n",
              "      <td>1</td>\n",
              "    </tr>\n",
              "    <tr>\n",
              "      <th>Survived</th>\n",
              "      <td>2208</td>\n",
              "      <td>NaN</td>\n",
              "      <td>NaN</td>\n",
              "      <td>NaN</td>\n",
              "      <td>0.322464</td>\n",
              "      <td>0.467525</td>\n",
              "      <td>0</td>\n",
              "      <td>0</td>\n",
              "      <td>0</td>\n",
              "      <td>1</td>\n",
              "      <td>1</td>\n",
              "    </tr>\n",
              "    <tr>\n",
              "      <th>Fare</th>\n",
              "      <td>2206</td>\n",
              "      <td>NaN</td>\n",
              "      <td>NaN</td>\n",
              "      <td>NaN</td>\n",
              "      <td>19.4836</td>\n",
              "      <td>43.0902</td>\n",
              "      <td>0</td>\n",
              "      <td>0</td>\n",
              "      <td>7</td>\n",
              "      <td>20</td>\n",
              "      <td>512</td>\n",
              "    </tr>\n",
              "    <tr>\n",
              "      <th>Bio</th>\n",
              "      <td>2145</td>\n",
              "      <td>2145</td>\n",
              "      <td>mr george milford was born in ryde, is...</td>\n",
              "      <td>1</td>\n",
              "      <td>NaN</td>\n",
              "      <td>NaN</td>\n",
              "      <td>NaN</td>\n",
              "      <td>NaN</td>\n",
              "      <td>NaN</td>\n",
              "      <td>NaN</td>\n",
              "      <td>NaN</td>\n",
              "    </tr>\n",
              "    <tr>\n",
              "      <th>Occupation</th>\n",
              "      <td>1602</td>\n",
              "      <td>384</td>\n",
              "      <td>Fireman</td>\n",
              "      <td>161</td>\n",
              "      <td>NaN</td>\n",
              "      <td>NaN</td>\n",
              "      <td>NaN</td>\n",
              "      <td>NaN</td>\n",
              "      <td>NaN</td>\n",
              "      <td>NaN</td>\n",
              "      <td>NaN</td>\n",
              "    </tr>\n",
              "    <tr>\n",
              "      <th>Class/Dept</th>\n",
              "      <td>2208</td>\n",
              "      <td>16</td>\n",
              "      <td>3rd Class Passenger</td>\n",
              "      <td>709</td>\n",
              "      <td>NaN</td>\n",
              "      <td>NaN</td>\n",
              "      <td>NaN</td>\n",
              "      <td>NaN</td>\n",
              "      <td>NaN</td>\n",
              "      <td>NaN</td>\n",
              "      <td>NaN</td>\n",
              "    </tr>\n",
              "    <tr>\n",
              "      <th>Cabin</th>\n",
              "      <td>308</td>\n",
              "      <td>193</td>\n",
              "      <td>E</td>\n",
              "      <td>8</td>\n",
              "      <td>NaN</td>\n",
              "      <td>NaN</td>\n",
              "      <td>NaN</td>\n",
              "      <td>NaN</td>\n",
              "      <td>NaN</td>\n",
              "      <td>NaN</td>\n",
              "      <td>NaN</td>\n",
              "    </tr>\n",
              "    <tr>\n",
              "      <th>Boat</th>\n",
              "      <td>625</td>\n",
              "      <td>20</td>\n",
              "      <td>15</td>\n",
              "      <td>56</td>\n",
              "      <td>NaN</td>\n",
              "      <td>NaN</td>\n",
              "      <td>NaN</td>\n",
              "      <td>NaN</td>\n",
              "      <td>NaN</td>\n",
              "      <td>NaN</td>\n",
              "      <td>NaN</td>\n",
              "    </tr>\n",
              "    <tr>\n",
              "      <th>Nationality</th>\n",
              "      <td>2205</td>\n",
              "      <td>98</td>\n",
              "      <td>English</td>\n",
              "      <td>999</td>\n",
              "      <td>NaN</td>\n",
              "      <td>NaN</td>\n",
              "      <td>NaN</td>\n",
              "      <td>NaN</td>\n",
              "      <td>NaN</td>\n",
              "      <td>NaN</td>\n",
              "      <td>NaN</td>\n",
              "    </tr>\n",
              "    <tr>\n",
              "      <th>URL</th>\n",
              "      <td>2208</td>\n",
              "      <td>2208</td>\n",
              "      <td>https://www.encyclopedia-titanica.org/titanic-...</td>\n",
              "      <td>1</td>\n",
              "      <td>NaN</td>\n",
              "      <td>NaN</td>\n",
              "      <td>NaN</td>\n",
              "      <td>NaN</td>\n",
              "      <td>NaN</td>\n",
              "      <td>NaN</td>\n",
              "      <td>NaN</td>\n",
              "    </tr>\n",
              "  </tbody>\n",
              "</table>\n",
              "</div>\n",
              "      <button class=\"colab-df-convert\" onclick=\"convertToInteractive('df-05c6c95f-6fd5-4d41-b830-36dcfbf906c0')\"\n",
              "              title=\"Convert this dataframe to an interactive table.\"\n",
              "              style=\"display:none;\">\n",
              "        \n",
              "  <svg xmlns=\"http://www.w3.org/2000/svg\" height=\"24px\"viewBox=\"0 0 24 24\"\n",
              "       width=\"24px\">\n",
              "    <path d=\"M0 0h24v24H0V0z\" fill=\"none\"/>\n",
              "    <path d=\"M18.56 5.44l.94 2.06.94-2.06 2.06-.94-2.06-.94-.94-2.06-.94 2.06-2.06.94zm-11 1L8.5 8.5l.94-2.06 2.06-.94-2.06-.94L8.5 2.5l-.94 2.06-2.06.94zm10 10l.94 2.06.94-2.06 2.06-.94-2.06-.94-.94-2.06-.94 2.06-2.06.94z\"/><path d=\"M17.41 7.96l-1.37-1.37c-.4-.4-.92-.59-1.43-.59-.52 0-1.04.2-1.43.59L10.3 9.45l-7.72 7.72c-.78.78-.78 2.05 0 2.83L4 21.41c.39.39.9.59 1.41.59.51 0 1.02-.2 1.41-.59l7.78-7.78 2.81-2.81c.8-.78.8-2.07 0-2.86zM5.41 20L4 18.59l7.72-7.72 1.47 1.35L5.41 20z\"/>\n",
              "  </svg>\n",
              "      </button>\n",
              "      \n",
              "  <style>\n",
              "    .colab-df-container {\n",
              "      display:flex;\n",
              "      flex-wrap:wrap;\n",
              "      gap: 12px;\n",
              "    }\n",
              "\n",
              "    .colab-df-convert {\n",
              "      background-color: #E8F0FE;\n",
              "      border: none;\n",
              "      border-radius: 50%;\n",
              "      cursor: pointer;\n",
              "      display: none;\n",
              "      fill: #1967D2;\n",
              "      height: 32px;\n",
              "      padding: 0 0 0 0;\n",
              "      width: 32px;\n",
              "    }\n",
              "\n",
              "    .colab-df-convert:hover {\n",
              "      background-color: #E2EBFA;\n",
              "      box-shadow: 0px 1px 2px rgba(60, 64, 67, 0.3), 0px 1px 3px 1px rgba(60, 64, 67, 0.15);\n",
              "      fill: #174EA6;\n",
              "    }\n",
              "\n",
              "    [theme=dark] .colab-df-convert {\n",
              "      background-color: #3B4455;\n",
              "      fill: #D2E3FC;\n",
              "    }\n",
              "\n",
              "    [theme=dark] .colab-df-convert:hover {\n",
              "      background-color: #434B5C;\n",
              "      box-shadow: 0px 1px 3px 1px rgba(0, 0, 0, 0.15);\n",
              "      filter: drop-shadow(0px 1px 2px rgba(0, 0, 0, 0.3));\n",
              "      fill: #FFFFFF;\n",
              "    }\n",
              "  </style>\n",
              "\n",
              "      <script>\n",
              "        const buttonEl =\n",
              "          document.querySelector('#df-05c6c95f-6fd5-4d41-b830-36dcfbf906c0 button.colab-df-convert');\n",
              "        buttonEl.style.display =\n",
              "          google.colab.kernel.accessAllowed ? 'block' : 'none';\n",
              "\n",
              "        async function convertToInteractive(key) {\n",
              "          const element = document.querySelector('#df-05c6c95f-6fd5-4d41-b830-36dcfbf906c0');\n",
              "          const dataTable =\n",
              "            await google.colab.kernel.invokeFunction('convertToInteractive',\n",
              "                                                     [key], {});\n",
              "          if (!dataTable) return;\n",
              "\n",
              "          const docLinkHtml = 'Like what you see? Visit the ' +\n",
              "            '<a target=\"_blank\" href=https://colab.research.google.com/notebooks/data_table.ipynb>data table notebook</a>'\n",
              "            + ' to learn more about interactive tables.';\n",
              "          element.innerHTML = '';\n",
              "          dataTable['output_type'] = 'display_data';\n",
              "          await google.colab.output.renderOutput(dataTable, element);\n",
              "          const docLink = document.createElement('div');\n",
              "          docLink.innerHTML = docLinkHtml;\n",
              "          element.appendChild(docLink);\n",
              "        }\n",
              "      </script>\n",
              "    </div>\n",
              "  </div>\n",
              "  "
            ],
            "text/plain": [
              "            count unique  ...  75%  max\n",
              "Name         2208   2201  ...  NaN  NaN\n",
              "Age          2198    NaN  ...   38   74\n",
              "Gender       2208      2  ...  NaN  NaN\n",
              "Class        2207      4  ...  NaN  NaN\n",
              "Joined       2208      4  ...  NaN  NaN\n",
              "Married      2207    NaN  ...    1    1\n",
              "Survived     2208    NaN  ...    1    1\n",
              "Fare         2206    NaN  ...   20  512\n",
              "Bio          2145   2145  ...  NaN  NaN\n",
              "Occupation   1602    384  ...  NaN  NaN\n",
              "Class/Dept   2208     16  ...  NaN  NaN\n",
              "Cabin         308    193  ...  NaN  NaN\n",
              "Boat          625     20  ...  NaN  NaN\n",
              "Nationality  2205     98  ...  NaN  NaN\n",
              "URL          2208   2208  ...  NaN  NaN\n",
              "\n",
              "[15 rows x 11 columns]"
            ]
          },
          "metadata": {},
          "execution_count": 10
        }
      ]
    },
    {
      "cell_type": "markdown",
      "metadata": {
        "id": "iS6L0WnOEgeb"
      },
      "source": [
        "##Titanic is our jam\n",
        "\n",
        "I admit the dataset is a bit academic in the sense of who cares what happened over 100 years ago. But it has a mixture of data that will force us to use a range of data engineering tools. And these tools will come in handy on new, important and timely datasets.\n",
        "\n",
        "So it is a good place to practice getting our tools in order."
      ]
    },
    {
      "cell_type": "markdown",
      "metadata": {
        "id": "wK-5EKsfF49w"
      },
      "source": [
        "###Drop some columns\n",
        "\n",
        "Before we move on, let's focus on a subset of columns. I'll go into more detail on this in the next chapter. For now, I'll just drop some columns to simplify."
      ]
    },
    {
      "cell_type": "code",
      "metadata": {
        "id": "47uCJMHqGQdA",
        "colab": {
          "base_uri": "https://localhost:8080/"
        },
        "outputId": "e58698cc-9689-4ba7-f26f-80ec017e4188"
      },
      "source": [
        "print(titanic_table.columns.to_list())  #full set of columns"
      ],
      "execution_count": null,
      "outputs": [
        {
          "output_type": "stream",
          "name": "stdout",
          "text": [
            "['Name', 'Age', 'Gender', 'Class', 'Joined', 'Married', 'Survived', 'Fare', 'Bio', 'Occupation', 'Class/Dept', 'Cabin', 'Boat', 'Nationality', 'URL']\n"
          ]
        }
      ]
    },
    {
      "cell_type": "code",
      "metadata": {
        "id": "OvRnvfroGJMy",
        "colab": {
          "base_uri": "https://localhost:8080/",
          "height": 206
        },
        "outputId": "addcd5ec-3d13-4a3b-e555-7ae63fa32dd3"
      },
      "source": [
        "titanic_table = titanic_table.drop(columns=['Bio', 'Occupation', 'Class/Dept', 'Cabin', 'Boat', 'Nationality', 'URL'])\n",
        "titanic_table.head()"
      ],
      "execution_count": null,
      "outputs": [
        {
          "output_type": "execute_result",
          "data": {
            "text/html": [
              "\n",
              "  <div id=\"df-47911c81-db5b-4d37-a783-71ef762c429f\">\n",
              "    <div class=\"colab-df-container\">\n",
              "      <div>\n",
              "<style scoped>\n",
              "    .dataframe tbody tr th:only-of-type {\n",
              "        vertical-align: middle;\n",
              "    }\n",
              "\n",
              "    .dataframe tbody tr th {\n",
              "        vertical-align: top;\n",
              "    }\n",
              "\n",
              "    .dataframe thead th {\n",
              "        text-align: right;\n",
              "    }\n",
              "</style>\n",
              "<table border=\"1\" class=\"dataframe\">\n",
              "  <thead>\n",
              "    <tr style=\"text-align: right;\">\n",
              "      <th></th>\n",
              "      <th>Name</th>\n",
              "      <th>Age</th>\n",
              "      <th>Gender</th>\n",
              "      <th>Class</th>\n",
              "      <th>Joined</th>\n",
              "      <th>Married</th>\n",
              "      <th>Survived</th>\n",
              "      <th>Fare</th>\n",
              "    </tr>\n",
              "  </thead>\n",
              "  <tbody>\n",
              "    <tr>\n",
              "      <th>0</th>\n",
              "      <td>ABBING, Mr Anthony</td>\n",
              "      <td>41.0</td>\n",
              "      <td>Male</td>\n",
              "      <td>C3</td>\n",
              "      <td>Southampton</td>\n",
              "      <td>0.0</td>\n",
              "      <td>0</td>\n",
              "      <td>7.0</td>\n",
              "    </tr>\n",
              "    <tr>\n",
              "      <th>1</th>\n",
              "      <td>ABBOTT, Mr Ernest Owen</td>\n",
              "      <td>21.0</td>\n",
              "      <td>Male</td>\n",
              "      <td>Crew</td>\n",
              "      <td>Southampton</td>\n",
              "      <td>0.0</td>\n",
              "      <td>0</td>\n",
              "      <td>0.0</td>\n",
              "    </tr>\n",
              "    <tr>\n",
              "      <th>2</th>\n",
              "      <td>ABBOTT, Mr Eugene Joseph</td>\n",
              "      <td>13.0</td>\n",
              "      <td>Male</td>\n",
              "      <td>C3</td>\n",
              "      <td>Southampton</td>\n",
              "      <td>NaN</td>\n",
              "      <td>0</td>\n",
              "      <td>20.0</td>\n",
              "    </tr>\n",
              "    <tr>\n",
              "      <th>3</th>\n",
              "      <td>ABBOTT, Mr Rossmore Edward</td>\n",
              "      <td>16.0</td>\n",
              "      <td>Male</td>\n",
              "      <td>C3</td>\n",
              "      <td>Southampton</td>\n",
              "      <td>0.0</td>\n",
              "      <td>0</td>\n",
              "      <td>NaN</td>\n",
              "    </tr>\n",
              "    <tr>\n",
              "      <th>4</th>\n",
              "      <td>ABELSON, Mr Samuel</td>\n",
              "      <td>NaN</td>\n",
              "      <td>Male</td>\n",
              "      <td>C2</td>\n",
              "      <td>Cherbourg</td>\n",
              "      <td>0.0</td>\n",
              "      <td>0</td>\n",
              "      <td>24.0</td>\n",
              "    </tr>\n",
              "  </tbody>\n",
              "</table>\n",
              "</div>\n",
              "      <button class=\"colab-df-convert\" onclick=\"convertToInteractive('df-47911c81-db5b-4d37-a783-71ef762c429f')\"\n",
              "              title=\"Convert this dataframe to an interactive table.\"\n",
              "              style=\"display:none;\">\n",
              "        \n",
              "  <svg xmlns=\"http://www.w3.org/2000/svg\" height=\"24px\"viewBox=\"0 0 24 24\"\n",
              "       width=\"24px\">\n",
              "    <path d=\"M0 0h24v24H0V0z\" fill=\"none\"/>\n",
              "    <path d=\"M18.56 5.44l.94 2.06.94-2.06 2.06-.94-2.06-.94-.94-2.06-.94 2.06-2.06.94zm-11 1L8.5 8.5l.94-2.06 2.06-.94-2.06-.94L8.5 2.5l-.94 2.06-2.06.94zm10 10l.94 2.06.94-2.06 2.06-.94-2.06-.94-.94-2.06-.94 2.06-2.06.94z\"/><path d=\"M17.41 7.96l-1.37-1.37c-.4-.4-.92-.59-1.43-.59-.52 0-1.04.2-1.43.59L10.3 9.45l-7.72 7.72c-.78.78-.78 2.05 0 2.83L4 21.41c.39.39.9.59 1.41.59.51 0 1.02-.2 1.41-.59l7.78-7.78 2.81-2.81c.8-.78.8-2.07 0-2.86zM5.41 20L4 18.59l7.72-7.72 1.47 1.35L5.41 20z\"/>\n",
              "  </svg>\n",
              "      </button>\n",
              "      \n",
              "  <style>\n",
              "    .colab-df-container {\n",
              "      display:flex;\n",
              "      flex-wrap:wrap;\n",
              "      gap: 12px;\n",
              "    }\n",
              "\n",
              "    .colab-df-convert {\n",
              "      background-color: #E8F0FE;\n",
              "      border: none;\n",
              "      border-radius: 50%;\n",
              "      cursor: pointer;\n",
              "      display: none;\n",
              "      fill: #1967D2;\n",
              "      height: 32px;\n",
              "      padding: 0 0 0 0;\n",
              "      width: 32px;\n",
              "    }\n",
              "\n",
              "    .colab-df-convert:hover {\n",
              "      background-color: #E2EBFA;\n",
              "      box-shadow: 0px 1px 2px rgba(60, 64, 67, 0.3), 0px 1px 3px 1px rgba(60, 64, 67, 0.15);\n",
              "      fill: #174EA6;\n",
              "    }\n",
              "\n",
              "    [theme=dark] .colab-df-convert {\n",
              "      background-color: #3B4455;\n",
              "      fill: #D2E3FC;\n",
              "    }\n",
              "\n",
              "    [theme=dark] .colab-df-convert:hover {\n",
              "      background-color: #434B5C;\n",
              "      box-shadow: 0px 1px 3px 1px rgba(0, 0, 0, 0.15);\n",
              "      filter: drop-shadow(0px 1px 2px rgba(0, 0, 0, 0.3));\n",
              "      fill: #FFFFFF;\n",
              "    }\n",
              "  </style>\n",
              "\n",
              "      <script>\n",
              "        const buttonEl =\n",
              "          document.querySelector('#df-47911c81-db5b-4d37-a783-71ef762c429f button.colab-df-convert');\n",
              "        buttonEl.style.display =\n",
              "          google.colab.kernel.accessAllowed ? 'block' : 'none';\n",
              "\n",
              "        async function convertToInteractive(key) {\n",
              "          const element = document.querySelector('#df-47911c81-db5b-4d37-a783-71ef762c429f');\n",
              "          const dataTable =\n",
              "            await google.colab.kernel.invokeFunction('convertToInteractive',\n",
              "                                                     [key], {});\n",
              "          if (!dataTable) return;\n",
              "\n",
              "          const docLinkHtml = 'Like what you see? Visit the ' +\n",
              "            '<a target=\"_blank\" href=https://colab.research.google.com/notebooks/data_table.ipynb>data table notebook</a>'\n",
              "            + ' to learn more about interactive tables.';\n",
              "          element.innerHTML = '';\n",
              "          dataTable['output_type'] = 'display_data';\n",
              "          await google.colab.output.renderOutput(dataTable, element);\n",
              "          const docLink = document.createElement('div');\n",
              "          docLink.innerHTML = docLinkHtml;\n",
              "          element.appendChild(docLink);\n",
              "        }\n",
              "      </script>\n",
              "    </div>\n",
              "  </div>\n",
              "  "
            ],
            "text/plain": [
              "                         Name   Age Gender  ... Married Survived  Fare\n",
              "0          ABBING, Mr Anthony  41.0   Male  ...     0.0        0   7.0\n",
              "1      ABBOTT, Mr Ernest Owen  21.0   Male  ...     0.0        0   0.0\n",
              "2    ABBOTT, Mr Eugene Joseph  13.0   Male  ...     NaN        0  20.0\n",
              "3  ABBOTT, Mr Rossmore Edward  16.0   Male  ...     0.0        0   NaN\n",
              "4          ABELSON, Mr Samuel   NaN   Male  ...     0.0        0  24.0\n",
              "\n",
              "[5 rows x 8 columns]"
            ]
          },
          "metadata": {},
          "execution_count": 32
        }
      ]
    },
    {
      "cell_type": "markdown",
      "metadata": {
        "id": "uvBXvv5P3RDM"
      },
      "source": [
        "<hr>\n",
        "<pre>\n",
        "\n",
        "\n",
        "</pre>\n",
        "#VI. pandas has rudimentary plotting methods\n",
        "<img src='https://www.dropbox.com/s/9fcc1crlxp19ijt/major_section.png?raw=1' width='300'>\n",
        "\n",
        "First, let me say we won't be doing any plotting beyond this chapter. This is not because I think it is unimportant, just that there are only 10 weeks in the quarter. But I hated to skip it so we will do a brief look. Plotting is the kind of thing you would typically do the first time you are handed a dataset. The goal is to get a picture of how the data is distributed and possibly correlated.\n",
        "\n",
        "I can tell you that the standard visualization/plotting library in Python is `matplotlib`. I can also tell you that it is knarly both conceptually and syntactically. I am going to rely on pandas as a \"wrapper\" for `matplotlib`. What pandas has done is give you plotting methods that hide the messy underlying `matplotlib` code. Thanks, pandas!"
      ]
    },
    {
      "cell_type": "markdown",
      "metadata": {
        "id": "jDTfB7QX4kOl"
      },
      "source": [
        "##The crosstab method plus the plot method\n",
        "\n",
        "I can give you, in a single line, the pandas code that can power our investigation of the Titanic data. Here it is:\n",
        "<pre>\n",
        "pd.crosstab(table[col1], table[col2]).plot(kind='bar', figsize=(10,6), grid=True, logy=True)\n",
        "</pre>\n",
        "Or with a real example that plots `Gender` against `Survived`:\n",
        "<pre>\n",
        "pd.crosstab(titanic_table['Gender'], titanic_table['Survived']).plot(kind='bar', figsize=(10,6), grid=True, logy=True)\n",
        "</pre>\n",
        "The pandas plotting method is called `plot` and comes last in the method chain. We have 1 method that preceeds it: `crosstab`, which sets up a new table (which gets thrown away after plotting) that has rows and columns set up for plotting, i.e., it is wrangled for plotting. Let's run the code and see what happens."
      ]
    },
    {
      "cell_type": "code",
      "metadata": {
        "id": "mFPZBaBVneFq",
        "colab": {
          "base_uri": "https://localhost:8080/",
          "height": 431
        },
        "outputId": "1049f708-462e-4fb7-c447-b0ae2cff4c34"
      },
      "source": [
        "pd.crosstab(titanic_table['Gender'], titanic_table['Survived']).plot(kind='bar', figsize=(10,6), grid=True, logy=True)"
      ],
      "execution_count": null,
      "outputs": [
        {
          "output_type": "execute_result",
          "data": {
            "text/plain": [
              "<matplotlib.axes._subplots.AxesSubplot at 0x7f13e81655d0>"
            ]
          },
          "metadata": {},
          "execution_count": 33
        },
        {
          "output_type": "display_data",
          "data": {
            "image/png": "[encoded data removed]",
            "text/plain": [
              "<Figure size 720x432 with 1 Axes>"
            ]
          },
          "metadata": {
            "needs_background": "light"
          }
        }
      ]
    },
    {
      "cell_type": "markdown",
      "metadata": {
        "id": "MclglulO65rq"
      },
      "source": [
        "Let's look at the parameters to `plot`.\n",
        "<pre>\n",
        "plot(kind='bar', figsize=(10,6), grid=True, logy=True)\n",
        "</pre>\n",
        " It's a kind of  bar chart. It shows the possible values in the `Survived` column, blue being perished, orange survived. The blue line dominates if it is larger and vice versa. `figsize` says the plot should show on a 10 inch wide and 6 inch deep figure. `grid` is used to overlay the plot with grid-lines. `logy` says to scale the data on the y axis, log base 10. I chose to scale because of the tendency for small values to be lost in the plot, e.g., values of 1. With scaling they can be seen more clearly."
      ]
    },
    {
      "cell_type": "markdown",
      "metadata": {
        "id": "9yPKLSTQ85kH"
      },
      "source": [
        "Here is another example looking at `Class` cross `Gender`."
      ]
    },
    {
      "cell_type": "code",
      "metadata": {
        "id": "2wmvzOrg7j_r",
        "colab": {
          "base_uri": "https://localhost:8080/",
          "height": 422
        },
        "outputId": "44df09a4-8b27-475f-9021-93fc82c33479"
      },
      "source": [
        "pd.crosstab(titanic_table['Class'], titanic_table['Gender']).plot(kind='bar', figsize=(10,6), grid=True, logy=True)"
      ],
      "execution_count": null,
      "outputs": [
        {
          "output_type": "execute_result",
          "data": {
            "text/plain": [
              "<matplotlib.axes._subplots.AxesSubplot at 0x7f68c8ecd350>"
            ]
          },
          "metadata": {},
          "execution_count": 12
        },
        {
          "output_type": "display_data",
          "data": {
            "image/png": "[encoded data removed]",
            "text/plain": [
              "<Figure size 720x432 with 1 Axes>"
            ]
          },
          "metadata": {
            "needs_background": "light"
          }
        }
      ]
    },
    {
      "cell_type": "markdown",
      "metadata": {
        "id": "8533YENDbbWw"
      },
      "source": [
        "## Subsetting the table\n",
        "\n",
        "There is another pandas concept that is useful. It is the idea of taking a subset of rows based on some condition(s). We can use the `query` method for this. I like query because it generally follows a style called SQL, which has been the standard used to query databases forever - talking 1970s. Here are some examples.\n",
        "<pre>\n",
        "fem3_table = titanic_table.query('Gender == \"Female\" and Class == \"C3\"')\n",
        "\n",
        "senior_table = titanic_table.query('Age > 65')\n",
        "</pre>\n",
        "The `query` method takes a single argument, a string. So that is straightforward. The complication is in how that string needs to be formatted. You have to remember these key facts:\n",
        "\n",
        "1. You do **not** have to quote column names.\n",
        "\n",
        "2. You do have to quote column **values** if they are not numeric, i.e., they are categorical.\n",
        "\n",
        "3. Do **not** quote a numeric value - just use the number.\n",
        "\n",
        "4. To do quoting, if you use a single quote for entire string, then use double-quotes for internal things.\n",
        "\n",
        "Let's try it out."
      ]
    },
    {
      "cell_type": "code",
      "metadata": {
        "id": "uVpua4Sts2CR",
        "colab": {
          "base_uri": "https://localhost:8080/",
          "height": 142
        },
        "outputId": "00488428-0cf7-4199-e364-a42e321c3df4"
      },
      "source": [
        "c3_female_table = titanic_table.query('Gender == \"Female\" and Class == \"C3\"') #quotes around 2 column values\n",
        "c3_female_table.head(1)"
      ],
      "execution_count": null,
      "outputs": [
        {
          "output_type": "execute_result",
          "data": {
            "text/html": [
              "\n",
              "  <div id=\"df-9d62a060-ba36-4abd-aa0d-d467350af8ad\">\n",
              "    <div class=\"colab-df-container\">\n",
              "      <div>\n",
              "<style scoped>\n",
              "    .dataframe tbody tr th:only-of-type {\n",
              "        vertical-align: middle;\n",
              "    }\n",
              "\n",
              "    .dataframe tbody tr th {\n",
              "        vertical-align: top;\n",
              "    }\n",
              "\n",
              "    .dataframe thead th {\n",
              "        text-align: right;\n",
              "    }\n",
              "</style>\n",
              "<table border=\"1\" class=\"dataframe\">\n",
              "  <thead>\n",
              "    <tr style=\"text-align: right;\">\n",
              "      <th></th>\n",
              "      <th>Name</th>\n",
              "      <th>Age</th>\n",
              "      <th>Gender</th>\n",
              "      <th>Class</th>\n",
              "      <th>Joined</th>\n",
              "      <th>Married</th>\n",
              "      <th>Survived</th>\n",
              "      <th>Fare</th>\n",
              "      <th>Bio</th>\n",
              "      <th>Occupation</th>\n",
              "      <th>Class/Dept</th>\n",
              "      <th>Cabin</th>\n",
              "      <th>Boat</th>\n",
              "      <th>Nationality</th>\n",
              "      <th>URL</th>\n",
              "    </tr>\n",
              "  </thead>\n",
              "  <tbody>\n",
              "    <tr>\n",
              "      <th>11</th>\n",
              "      <td>AHLIN, Mrs Johanna Persdotter</td>\n",
              "      <td>40.0</td>\n",
              "      <td>Female</td>\n",
              "      <td>C3</td>\n",
              "      <td>Southampton</td>\n",
              "      <td>1.0</td>\n",
              "      <td>0</td>\n",
              "      <td>9.0</td>\n",
              "      <td>mrs lars johan karlsson ahlin was born...</td>\n",
              "      <td>NaN</td>\n",
              "      <td>3rd Class Passenger</td>\n",
              "      <td>NaN</td>\n",
              "      <td>NaN</td>\n",
              "      <td>Swedish</td>\n",
              "      <td>https://www.encyclopedia-titanica.org/titanic-...</td>\n",
              "    </tr>\n",
              "  </tbody>\n",
              "</table>\n",
              "</div>\n",
              "      <button class=\"colab-df-convert\" onclick=\"convertToInteractive('df-9d62a060-ba36-4abd-aa0d-d467350af8ad')\"\n",
              "              title=\"Convert this dataframe to an interactive table.\"\n",
              "              style=\"display:none;\">\n",
              "        \n",
              "  <svg xmlns=\"http://www.w3.org/2000/svg\" height=\"24px\"viewBox=\"0 0 24 24\"\n",
              "       width=\"24px\">\n",
              "    <path d=\"M0 0h24v24H0V0z\" fill=\"none\"/>\n",
              "    <path d=\"M18.56 5.44l.94 2.06.94-2.06 2.06-.94-2.06-.94-.94-2.06-.94 2.06-2.06.94zm-11 1L8.5 8.5l.94-2.06 2.06-.94-2.06-.94L8.5 2.5l-.94 2.06-2.06.94zm10 10l.94 2.06.94-2.06 2.06-.94-2.06-.94-.94-2.06-.94 2.06-2.06.94z\"/><path d=\"M17.41 7.96l-1.37-1.37c-.4-.4-.92-.59-1.43-.59-.52 0-1.04.2-1.43.59L10.3 9.45l-7.72 7.72c-.78.78-.78 2.05 0 2.83L4 21.41c.39.39.9.59 1.41.59.51 0 1.02-.2 1.41-.59l7.78-7.78 2.81-2.81c.8-.78.8-2.07 0-2.86zM5.41 20L4 18.59l7.72-7.72 1.47 1.35L5.41 20z\"/>\n",
              "  </svg>\n",
              "      </button>\n",
              "      \n",
              "  <style>\n",
              "    .colab-df-container {\n",
              "      display:flex;\n",
              "      flex-wrap:wrap;\n",
              "      gap: 12px;\n",
              "    }\n",
              "\n",
              "    .colab-df-convert {\n",
              "      background-color: #E8F0FE;\n",
              "      border: none;\n",
              "      border-radius: 50%;\n",
              "      cursor: pointer;\n",
              "      display: none;\n",
              "      fill: #1967D2;\n",
              "      height: 32px;\n",
              "      padding: 0 0 0 0;\n",
              "      width: 32px;\n",
              "    }\n",
              "\n",
              "    .colab-df-convert:hover {\n",
              "      background-color: #E2EBFA;\n",
              "      box-shadow: 0px 1px 2px rgba(60, 64, 67, 0.3), 0px 1px 3px 1px rgba(60, 64, 67, 0.15);\n",
              "      fill: #174EA6;\n",
              "    }\n",
              "\n",
              "    [theme=dark] .colab-df-convert {\n",
              "      background-color: #3B4455;\n",
              "      fill: #D2E3FC;\n",
              "    }\n",
              "\n",
              "    [theme=dark] .colab-df-convert:hover {\n",
              "      background-color: #434B5C;\n",
              "      box-shadow: 0px 1px 3px 1px rgba(0, 0, 0, 0.15);\n",
              "      filter: drop-shadow(0px 1px 2px rgba(0, 0, 0, 0.3));\n",
              "      fill: #FFFFFF;\n",
              "    }\n",
              "  </style>\n",
              "\n",
              "      <script>\n",
              "        const buttonEl =\n",
              "          document.querySelector('#df-9d62a060-ba36-4abd-aa0d-d467350af8ad button.colab-df-convert');\n",
              "        buttonEl.style.display =\n",
              "          google.colab.kernel.accessAllowed ? 'block' : 'none';\n",
              "\n",
              "        async function convertToInteractive(key) {\n",
              "          const element = document.querySelector('#df-9d62a060-ba36-4abd-aa0d-d467350af8ad');\n",
              "          const dataTable =\n",
              "            await google.colab.kernel.invokeFunction('convertToInteractive',\n",
              "                                                     [key], {});\n",
              "          if (!dataTable) return;\n",
              "\n",
              "          const docLinkHtml = 'Like what you see? Visit the ' +\n",
              "            '<a target=\"_blank\" href=https://colab.research.google.com/notebooks/data_table.ipynb>data table notebook</a>'\n",
              "            + ' to learn more about interactive tables.';\n",
              "          element.innerHTML = '';\n",
              "          dataTable['output_type'] = 'display_data';\n",
              "          await google.colab.output.renderOutput(dataTable, element);\n",
              "          const docLink = document.createElement('div');\n",
              "          docLink.innerHTML = docLinkHtml;\n",
              "          element.appendChild(docLink);\n",
              "        }\n",
              "      </script>\n",
              "    </div>\n",
              "  </div>\n",
              "  "
            ],
            "text/plain": [
              "                             Name  ...                                                URL\n",
              "11  AHLIN, Mrs Johanna Persdotter  ...  https://www.encyclopedia-titanica.org/titanic-...\n",
              "\n",
              "[1 rows x 15 columns]"
            ]
          },
          "metadata": {},
          "execution_count": 13
        }
      ]
    },
    {
      "cell_type": "markdown",
      "metadata": {
        "id": "8RumLIgKApRV"
      },
      "source": [
        "Then we plot."
      ]
    },
    {
      "cell_type": "code",
      "metadata": {
        "id": "hQTHdQYEAtBt",
        "colab": {
          "base_uri": "https://localhost:8080/",
          "height": 411
        },
        "outputId": "05a6cddd-707a-4974-e8b3-e5ae402d9caa"
      },
      "source": [
        "pd.crosstab(c3_female_table['Married'], c3_female_table['Survived']).plot(kind='bar', figsize=(10,6), grid=True, logy=True)"
      ],
      "execution_count": null,
      "outputs": [
        {
          "output_type": "execute_result",
          "data": {
            "text/plain": [
              "<matplotlib.axes._subplots.AxesSubplot at 0x7f68c8ed7ad0>"
            ]
          },
          "metadata": {},
          "execution_count": 14
        },
        {
          "output_type": "display_data",
          "data": {
            "image/png": "[encoded data removed]",
            "text/plain": [
              "<Figure size 720x432 with 1 Axes>"
            ]
          },
          "metadata": {
            "needs_background": "light"
          }
        }
      ]
    },
    {
      "cell_type": "markdown",
      "metadata": {
        "id": "7CnGlQT6-tcN"
      },
      "source": [
        "###`loc` equivalent\n",
        "\n",
        "Here is equivalent using `loc`.\n",
        "Note need `&` for `and` and need parens around logical conditions. And square brackets.\n",
        "\n",
        " While the `loc` method is powerful, in this case I like `query` better :)"
      ]
    },
    {
      "cell_type": "code",
      "metadata": {
        "id": "hHniD7nA-2tm"
      },
      "source": [
        "loc_c3_female_table = titanic_table.loc[(titanic_table['Gender'] == \"Female\") &\n",
        "                                        (titanic_table['Class'] == \"C3\")]\n"
      ],
      "execution_count": null,
      "outputs": []
    },
    {
      "cell_type": "code",
      "metadata": {
        "id": "cUh1W9CPA6qZ"
      },
      "source": [
        "loc_c3_female_table.head(1)"
      ],
      "execution_count": null,
      "outputs": []
    },
    {
      "cell_type": "markdown",
      "metadata": {
        "id": "y2bebYFpBTXU"
      },
      "source": [
        "Here's another."
      ]
    },
    {
      "cell_type": "code",
      "metadata": {
        "id": "GWPMplapv5H1",
        "colab": {
          "base_uri": "https://localhost:8080/",
          "height": 408
        },
        "outputId": "03a62b76-bd5a-4648-aea8-7e5aabba3838"
      },
      "source": [
        "passenger_table = titanic_table.query('Class != \"Crew\"')  #not crew, i.e., passengers only\n",
        "pd.crosstab(passenger_table['Class'], passenger_table['Survived']).plot(kind='bar', figsize=(10,6), grid=True, logy=True)"
      ],
      "execution_count": null,
      "outputs": [
        {
          "output_type": "execute_result",
          "data": {
            "text/plain": [
              "<matplotlib.axes._subplots.AxesSubplot at 0x7f68c8a45290>"
            ]
          },
          "metadata": {},
          "execution_count": 15
        },
        {
          "output_type": "display_data",
          "data": {
            "image/png": "[encoded data removed]",
            "text/plain": [
              "<Figure size 720x432 with 1 Axes>"
            ]
          },
          "metadata": {
            "needs_background": "light"
          }
        }
      ]
    },
    {
      "cell_type": "markdown",
      "source": [
        "##Reminder to self\n",
        "\n",
        "Clear off the mural site before next problem."
      ],
      "metadata": {
        "id": "eVuOnyXGRUbI"
      }
    },
    {
      "cell_type": "markdown",
      "metadata": {
        "id": "pUV3oBwgClFw"
      },
      "source": [
        "<img src='https://www.dropbox.com/s/8x575mvbi1xumje/cash_line.png?raw=1' height=3 width=500><br>\n",
        "<img src='https://www.gannett-cdn.com/-mm-/56cbeec8287997813f287995de67747ba5e101d5/c=9-0-1280-718/local/-/media/2018/02/15/Phoenix/Phoenix/636542954131413889-image.jpg' height=50 align=center>  Please plot survival by Gender of those who were Married and joined in Cherbourg.\n",
        "\n",
        "Take a screenshot of your plot and put it on the mural site: https://app.mural.co/invitation/mural/cis4236034/1639511781261?sender=u173416b87b3b8c1cbe335790&key=3993cb03-56a9-4fe5-b4d9-6304e32ff459.\n",
        "\n",
        "Resize it! So does not take entire screen.\n",
        "\n"
      ]
    },
    {
      "cell_type": "code",
      "metadata": {
        "id": "Ap4nugZVC62i"
      },
      "source": [
        "#subset the tablec\n",
        "mcher_table = titanic_table.query('Joined == \"Cherbourg\" and Married == \"1.0\"')"
      ],
      "execution_count": null,
      "outputs": []
    },
    {
      "cell_type": "code",
      "metadata": {
        "id": "Zzp2ZolTC62i",
        "colab": {
          "base_uri": "https://localhost:8080/",
          "height": 431
        },
        "outputId": "76b7b1e7-41aa-4eaa-fbb2-53bee963ad95"
      },
      "source": [
        "#crosstab\n",
        "\n",
        "pd.crosstab(mcher_table['Gender'], mcher_table['Survived']).plot(kind='bar', figsize=(10,6), grid=True, logy=True)"
      ],
      "execution_count": null,
      "outputs": [
        {
          "output_type": "execute_result",
          "data": {
            "text/plain": [
              "<matplotlib.axes._subplots.AxesSubplot at 0x7f68c84f34d0>"
            ]
          },
          "metadata": {},
          "execution_count": 21
        },
        {
          "output_type": "display_data",
          "data": {
            "image/png": "[encoded data removed]",
            "text/plain": [
              "<Figure size 720x432 with 1 Axes>"
            ]
          },
          "metadata": {
            "needs_background": "light"
          }
        }
      ]
    },
    {
      "cell_type": "markdown",
      "metadata": {
        "id": "Lv0iyz-j8Svu"
      },
      "source": [
        "##What we are not covering\n",
        "\n",
        "There is a lot more initial plotting you might want to do to gain insight into your data. You will cover that in a full-blown data science course.\n",
        "\n",
        "Our focus is on software engineering so we will move ahead with data wrangling then modeling."
      ]
    },
    {
      "cell_type": "markdown",
      "metadata": {
        "id": "s38AKvHT2t1q"
      },
      "source": [
        "#Putting it All Together: Problems to Solve\n",
        "\n",
        "\n",
        "I'll give you some problems to work on in a group and on your own. Please turn your notebook in on canvas. Make sure to make the shared link viewable by everyone.\n"
      ]
    },
    {
      "cell_type": "markdown",
      "metadata": {
        "id": "ok_qpbLox1NR"
      },
      "source": [
        "#Challenge 1\n",
        "<img src='https://www.dropbox.com/s/3uyvp722kp5to2r/assignment.png?raw=1' width='300'>\n",
        "\n",
        "\n",
        "Define a function `add_lists` that takes 2 arguments, each a list of ints, and then pair-wise adds items to produce a new list. The one constraint is that if the sum is less than `0`, then it uses `0` for the sum.\n",
        "\n",
        "Use a list comprehension!\n",
        "\n",
        "Make sure your arguments look ok by using asserts, i.e., I want you (not Python) to produce error messages.\n",
        "\n",
        "Here are some test cases:\n",
        "<pre>\n",
        "add_lists([1,2,3], [4,5,6]) => [5,7,9]\n",
        "add_lists([1,2,3], [4,-5,-3]) => [5,0,0]\n",
        "add_lists([], []) => []\n",
        "add_lists(1,2) => your error message\n",
        "add_list([1,2,3], [4,5]) => your error message\n",
        "add_lists([1, 2],[3, 4.5]) => your error message\n",
        "</pre>"
      ]
    },
    {
      "cell_type": "code",
      "metadata": {
        "id": "1dJR2a22pi67"
      },
      "source": [
        "#your function here\n",
        "\n",
        "def add_lists(a:list,b:list) -> list:\n"
      ],
      "execution_count": null,
      "outputs": []
    },
    {
      "cell_type": "code",
      "metadata": {
        "id": "8wSkhkDdpmqM"
      },
      "source": [
        "assert add_lists([1,2,3], [4,5,6]) == [5,7,9]"
      ],
      "execution_count": null,
      "outputs": []
    },
    {
      "cell_type": "code",
      "metadata": {
        "id": "NDq4nP-iJOH8"
      },
      "source": [
        "assert add_lists([1,2,3], [4,-5,-3]) == [5,0,0]"
      ],
      "execution_count": null,
      "outputs": []
    },
    {
      "cell_type": "code",
      "metadata": {
        "id": "YYZJQxGwJeKl"
      },
      "source": [
        "assert add_lists([], []) == []"
      ],
      "execution_count": null,
      "outputs": []
    },
    {
      "cell_type": "code",
      "metadata": {
        "id": "84FxKTZXpsb4"
      },
      "source": [
        "add_lists(1,2) # your error message"
      ],
      "execution_count": null,
      "outputs": []
    },
    {
      "cell_type": "code",
      "metadata": {
        "id": "RUo5qw9dpw5k"
      },
      "source": [
        "add_list([1,2,3], [4,5]) # your error message"
      ],
      "execution_count": null,
      "outputs": []
    },
    {
      "cell_type": "code",
      "metadata": {
        "id": "POaxRS_mpzmO"
      },
      "source": [
        "add_lists([1, 2],[3, 4.5]) # your error message"
      ],
      "execution_count": null,
      "outputs": []
    },
    {
      "cell_type": "markdown",
      "metadata": {
        "id": "4ABh50H4CGEu"
      },
      "source": [
        "#Challenge 2\n",
        "<img src='https://www.dropbox.com/s/3uyvp722kp5to2r/assignment.png?raw=1' width='300'>\n",
        "\n",
        "If \"women and children first\" was the ethics of the day, use plotting to find a likely cut off age for \"children\". At what age did children perish at same rate as everyone else?\n",
        "\n",
        "Given that there was no definition of children age, it was up to officers on deck to make subjective judgement. The data helps us see what they were using.\n",
        "\n",
        "Show your plots and your conclusion.\n"
      ]
    },
    {
      "cell_type": "code",
      "metadata": {
        "id": "ANg46mGbJp9M"
      },
      "source": [
        "#subset the table to those below 25\n",
        "young_table =  "
      ],
      "execution_count": null,
      "outputs": []
    },
    {
      "cell_type": "code",
      "metadata": {
        "id": "0-TBYpRSJp9N"
      },
      "source": [
        "#crosstab\n"
      ],
      "execution_count": null,
      "outputs": []
    },
    {
      "cell_type": "markdown",
      "source": [
        "##So what do you say the age was?\n",
        "\n",
        "What does the plot tell us about what \"children\" meant to officers in charge of life boats?"
      ],
      "metadata": {
        "id": "QptA8mduSMkI"
      }
    },
    {
      "cell_type": "markdown",
      "metadata": {
        "id": "101nLyXsC6mm"
      },
      "source": [
        "#Challenge 3\n",
        "<img src='https://www.dropbox.com/s/3uyvp722kp5to2r/assignment.png?raw=1' width='300'>\n",
        "\n",
        "Figure out how to remove duplicate rows and make sure index has no gaps.\n",
        "\n",
        "I'll give you a small table to test on. It has duplicate rows so remove one of them. Find the pandas method that deals with duplicates to do this. At the same time, find the pandas method for filling in gaps in the index. You should be able to chain them together.\n"
      ]
    },
    {
      "cell_type": "code",
      "metadata": {
        "id": "THpaDBy6D4Hp"
      },
      "source": [
        "test_df = pd.DataFrame({'a': [1,2,2,4], 'b':[3,1,1,5]})\n",
        "test_df"
      ],
      "execution_count": null,
      "outputs": []
    },
    {
      "cell_type": "markdown",
      "metadata": {
        "id": "WEqGOMrrCva2"
      },
      "source": [
        "###Ok, make assert True\n",
        "\n",
        "Don't change `test_df`. Create a new table `new_df`, instead, with the changes. Here is your target. Notice the index has no gaps.\n",
        "\n",
        "<img src='https://www.dropbox.com/s/y94jo92nhdr1fr6/Screen%20Shot%202021-10-22%20at%2011.06.27%20AM.png?raw=1' height=150>"
      ]
    },
    {
      "cell_type": "code",
      "metadata": {
        "id": "smvVrVHyEVH5"
      },
      "source": [
        "new_df = \n",
        "new_df"
      ],
      "execution_count": null,
      "outputs": []
    },
    {
      "cell_type": "markdown",
      "source": [
        "<pre>\n",
        "     a\tb\n",
        "0\t1\t3\n",
        "1\t2\t1\n",
        "2\t4\t5\n",
        "</pre>"
      ],
      "metadata": {
        "id": "R8U8VS-zVu5o"
      }
    },
    {
      "cell_type": "code",
      "metadata": {
        "id": "BmsnlGz4EkV0"
      },
      "source": [
        "#don't modify this cell - make it True\n",
        "assert len(new_df)+1 == len(test_df)\n",
        "assert len(new_df.loc[2])==2, f'len is {len(new_df.loc[2])}'  #make sure column not dropped\n",
        "assert new_df.loc[2,'a']==4, f'loc[2,\"a\"] not 4 but {new_df.loc[2,\"a\"]}'  #make sure index looks ok"
      ],
      "execution_count": null,
      "outputs": []
    },
    {
      "cell_type": "markdown",
      "metadata": {
        "id": "xTbcZiLE55_w"
      },
      "source": [
        "#Challenge 4\n",
        "<img src='https://www.dropbox.com/s/3uyvp722kp5to2r/assignment.png?raw=1' width='300'>\n",
        "\n",
        "This is a chance to get some Python practice. Here is an article that introduces a means of measuring the correlation between 2 columns. Read the article. Then implement a function `my_distance_correlation(a,b)`. Test it out on the `Age` and `Fare` columns. [Distance correlation article](https://towardsdatascience.com/introducing-distance-correlation-a-superior-correlation-metric-d569dc8900c7).\n",
        "\n",
        "I'm asking you to use the final 100 values in `Age` and `Fare` because they do not contain any NaN values, which would screw up our code.\n",
        "\n",
        "You can use a library method as an oracle:\n",
        "<pre>\n",
        "!pip install dcor\n",
        "import dcor\n",
        "\n",
        "dcor.distance_correlation(np.array(a),np.array(b))  #0.31412993552690227\n",
        "</pre>\n",
        "where `a` and `b` are the list of the **final** 100 column values in `Age` and `Fare`. You will have to slice to get the last 100. The value 0.`31412993552690227` is your target."
      ]
    },
    {
      "cell_type": "code",
      "metadata": {
        "id": "4Hc69Jqq764N"
      },
      "source": [
        "#slice to get a and b as plain python lists (not numpy arrays)\n",
        "a = \n",
        "b = \n",
        "\n",
        "!pip install dcor\n",
        "import dcor as dc  #the oracle you have to match\n",
        "import numpy as np\n",
        "\n",
        "dc.distance_correlation(np.array(a),np.array(b))  #0.31412993552690227"
      ],
      "execution_count": null,
      "outputs": []
    },
    {
      "cell_type": "markdown",
      "metadata": {
        "id": "Ca91k6g8tysE"
      },
      "source": [
        "##Here is the general formula\n",
        "\n",
        "<img src='https://www.dropbox.com/s/ywqbbd6qn8jchwu/Screen%20Shot%202021-08-27%20at%2010.44.29%20AM.png?raw=1' height=150>\n",
        "\n",
        "In words, the distance correlation (dCor) between 2 vectors X and Y is (a) the distance covariance (dCov) between X and Y, divided by (b) the distance variance (dVar) of X alone times the distance variance of Y alone taken to the .5 power (square root).\n",
        "\n",
        "We will break this into steps below."
      ]
    },
    {
      "cell_type": "markdown",
      "metadata": {
        "id": "d-XkkIXFz6h8"
      },
      "source": [
        "##Reminder of what is in `a` and `b`"
      ]
    },
    {
      "cell_type": "code",
      "metadata": {
        "id": "B5GRDODsz-6c"
      },
      "source": [
        "print(a[:5])  #[47.0, 54.0, 43.0, 52.0, 28.0]  #Age\n",
        "print(b[:5])  #[0.0, 55.0, 55.0, 78.0, 0.0]    #Fare"
      ],
      "execution_count": null,
      "outputs": []
    },
    {
      "cell_type": "markdown",
      "metadata": {
        "id": "siU5BdrHY4zb"
      },
      "source": [
        "##Constraint 1: Pure Python\n",
        "\n",
        "I would like you to practice with pure Python. No outside libraries can be used, e.g., no numpy."
      ]
    },
    {
      "cell_type": "markdown",
      "metadata": {
        "id": "pKLSWN1CaE23"
      },
      "source": [
        "##Constraint 2: List Comprehensions when you can\n",
        "\n",
        "Please avoid a for-loop when you can use a list comprehension instead. I'll give you hints along the way."
      ]
    },
    {
      "cell_type": "markdown",
      "metadata": {
        "id": "t73efognm2lI"
      },
      "source": [
        "##Step 4.1 Build a distance matrix for both `Age` and `Fare`\n",
        "\n",
        "Read the paper first to get a general idea of what is going on. The paper breaks computation into steps and I'll do the same. Here is the first step:\n",
        "\n",
        "<img src='https://miro.medium.com/max/1400/1*rrv85K1EkS4B9tLnugY9-Q.png'>\n",
        "\n",
        "We are building a \"distance matrix\" for each list of ages and fares. To decipher, looking at the matrix `aj,k`, the first 2 rows are as follows:\n",
        "<pre>\n",
        "[abs(a[0]-a[0]), abs(a[0]-a[1]), abs(a[0]-a[2]), ...]  #row 1\n",
        "[abs(a[1]-a[0]), abs(a[1]-a[1]), abs(a[1]-a[2]), ...]  #row 2\n",
        "...\n",
        "</pre>\n",
        "Remember `a` is a list of ages (an array, not a matrix). We are converting it to a distance matrix following method above. We should end up with a 100 by 100 matrix if `a` is length 100 to start.\n",
        "\n",
        "If you have sharp eyes, you may notice that row 1 == column 1, etc."
      ]
    },
    {
      "cell_type": "markdown",
      "metadata": {
        "id": "9D3C85R0uomI"
      },
      "source": [
        "Please write a function that will compute a distance matrix for a python list of values. \n",
        "\n",
        "Note I am showing you scipy and numpy code that does this for you. I think it is ugly and hard to understand. I suppose its benefit is that it is fast. But might be worth looking at speed comparison with your straight Python code. Some other time."
      ]
    },
    {
      "cell_type": "code",
      "metadata": {
        "id": "0nk2_JGVee1b"
      },
      "source": [
        "'''\n",
        "from scipy.spatial.distance import pdist, squareform\n",
        "A = a[:, None]  #numpy rescaling required for pdist - yuck\n",
        "B = b[:, None]\n",
        "dmatrix_a = squareform(pdist(A))\n",
        "dmatrix_b = squareform(pdist(B))\n",
        "'''\n",
        "\n",
        "def compute_distance_matrix(a:list):\n",
        "  #your code below. I used for loop and list comprehension combo. I could have used nested list comprehensions,\n",
        "  #but I find them a bit obtuse.\n"
      ],
      "execution_count": null,
      "outputs": []
    },
    {
      "cell_type": "code",
      "metadata": {
        "id": "cmbOoWRnaCbu"
      },
      "source": [
        "dmatrix_a = compute_distance_matrix(a)\n",
        "dmatrix_b = compute_distance_matrix(b)\n",
        "\n",
        "print(a)  #[47.0, 54.0, 43.0, 52.0, 28.0, 61.0, 30.0, 25.0, ...\n",
        "print('========')\n",
        "print(dmatrix_a[0])  #[0.0, 7.0, 4.0, 5.0, 19.0, 14.0, 17.0, 22.0, 15.0, ...\n",
        "print(dmatrix_a[1])  #[7.0, 0.0, 11.0, 2.0, 26.0, 7.0, 24.0, 29.0, 22.0, ...\n",
        "print(dmatrix_a[2])  #[4.0, 11.0, 0.0, 9.0, 15.0, 18.0, 13.0, 18.0, 11.0,..."
      ],
      "execution_count": null,
      "outputs": []
    },
    {
      "cell_type": "code",
      "metadata": {
        "id": "n2_5sXd5YxyN"
      },
      "source": [
        "print(len(dmatrix_a), len(dmatrix_a[0])) #100 100"
      ],
      "execution_count": null,
      "outputs": []
    },
    {
      "cell_type": "code",
      "metadata": {
        "id": "RwKdpRwvHK2r"
      },
      "source": [
        "dmatrix_a[0]==[v[0] for v in dmatrix_a]  #matrix is symmetrical, row i == column i"
      ],
      "execution_count": null,
      "outputs": []
    },
    {
      "cell_type": "markdown",
      "metadata": {
        "id": "nlVpx7XgnOvq"
      },
      "source": [
        "##Step 4.2 double centered distances\n",
        "\n",
        "<img src='https://miro.medium.com/max/9600/1*wXEgdSoxnG7SGfCbR7M7zQ.png'>\n",
        "\n",
        "You need to look back at the paper to get an intuition of what is going on.\n",
        "\n",
        "I'm going to break up into sub-problems (bar over variable signifies mean):\n",
        "\n",
        "* compute `aj bar` (mean for each row, giving a 1D array). Forget the dot following `j` for now.\n",
        "\n",
        "* compute `ak bar` (mean for each column, giving a 1D array). Note that while I will ask you to compute this with a separate function, you should be able to convice yourself that it is equivalent to `aj bar`, e.g., the mean of row 0 is equal to the mean of column 0, and so forth. Again, forget the dot for now.\n",
        "\n",
        "* broadcast to get `aj. bar` (repeat `aj bar` n times to get matrix with n duplicate rows)\n",
        "\n",
        "* broadcast to get `a.k bar` (repeat `ak bar` n times to get matrix with n duplicate columns)\n",
        "\n",
        "* Now ready to do normal matrix subtraction with matrices with identical dimensions, i.e., all are 100 by 100.\n",
        "\n",
        "* Finally add in the grand mean `a.. bar` (a scalar).\n",
        "\n",
        "I'll ask you to write a set of functions to help. Then we can apply the functions to both `dmatrix_a` and `dmatrix_b`."
      ]
    },
    {
      "cell_type": "code",
      "metadata": {
        "id": "tbCnPQqJhES2"
      },
      "source": [
        "#row mean, i.e., aj bar (will get to the dot shortly)\n",
        "#numpy: dmat.mean(axis=0)\n",
        "\n",
        "def row_mean(dmat):\n",
        "  #your code below - use list comprehension\n",
        "\n",
        "\n",
        "row_mean_a = row_mean(dmatrix_a)\n",
        "row_mean_b = row_mean(dmatrix_b)\n",
        "row_mean_a[:5]  #[17.82, 23.74, 15.2, 21.94, 10.8]"
      ],
      "execution_count": null,
      "outputs": []
    },
    {
      "cell_type": "code",
      "metadata": {
        "id": "F75K4sGbhdlc"
      },
      "source": [
        "##column mean, i.e., ak bar (will get to the dot shortly)\n",
        "#numpy: dmat.mean(axis=1)\n",
        "\n",
        "def column_mean(dmat):\n",
        "  #your code below - a for loop and a list comprehension\n",
        "\n",
        "\n",
        "col_mean_a = column_mean(dmatrix_a)\n",
        "col_mean_b= column_mean(dmatrix_b)\n",
        "col_mean_a[:5]  #[17.82, 23.74, 15.2, 21.94, 10.8]"
      ],
      "execution_count": null,
      "outputs": []
    },
    {
      "cell_type": "code",
      "metadata": {
        "id": "ygVLQYdxIU2Y"
      },
      "source": [
        "row_mean_a==col_mean_a  #could just compute row_mean_a in this special case"
      ],
      "execution_count": null,
      "outputs": []
    },
    {
      "cell_type": "markdown",
      "metadata": {
        "id": "VzPqovIYoBAg"
      },
      "source": [
        "##Problem of dimensions\n",
        "\n",
        "\n",
        "We need to do matrix subtraction but to do so all matrices must be of the same dimensions. We have mean values as 1D arrays so not there yet. The solution is to broadcast, i.e., convert the 1D arrays into 2D matrices that are 100 by 100.\n",
        "\n",
        "First type of broadcasting is by row. Easy peasy. We just repeat a 1D array we have n times. So now have a matrix of n rows, all identical. Specifically, a 100 by 100 matrix.\n",
        "\n",
        "Second type of broadcasting is by column. Same idea. Treat a 1D array we have as a column and repeat it to get matrix with identical columns.\n",
        "\n",
        "This gets us the final `aj. bar` and `a.k bar` that we need, both 100 by 100 matrices."
      ]
    },
    {
      "cell_type": "code",
      "metadata": {
        "id": "2VBlJoRrgcHQ"
      },
      "source": [
        "nrows = len(dmatrix_a)  #100\n",
        "ncols = len(dmatrix_a[0])  #100"
      ],
      "execution_count": null,
      "outputs": []
    },
    {
      "cell_type": "code",
      "metadata": {
        "id": "ebqEEa3d5Ghv"
      },
      "source": [
        "#broadcast both in one fell swoop!\n",
        "#numpy: row_matrix_a, col_matrix_a = np.meshgrid(row_mean_a, col_mean_a)"
      ],
      "execution_count": null,
      "outputs": []
    },
    {
      "cell_type": "code",
      "metadata": {
        "id": "UF8-CgXHeCW0"
      },
      "source": [
        "#Hint: [0]*5 == [0,0,0,0,0]\n",
        "\n",
        "def broadcast_row(row, n):\n",
        "  #duplicate row n times - list comprehension\n",
        "\n",
        "\n",
        "row_matrix_a = broadcast_row(row_mean_a, nrows)\n",
        "row_matrix_b = broadcast_row(row_mean_b, nrows)\n",
        "print(row_matrix_a[0][:10])  #[17.82, 23.74, 15.2, 21.94, 10.8, 30.32, 10.64, 11.62, 10.8, 14.24]\n",
        "print(row_matrix_a[1][:10])  #[17.82, 23.74, 15.2, 21.94, 10.8, 30.32, 10.64, 11.62, 10.8, 14.24]"
      ],
      "execution_count": null,
      "outputs": []
    },
    {
      "cell_type": "code",
      "metadata": {
        "id": "34LIuhI2fERw"
      },
      "source": [
        "def broadcast_column(col, n):\n",
        "  #duplicate column n times - I was able to use a list comprehension and avoid for loop\n",
        "\n",
        "\n",
        "col_matrix_a = broadcast_column(col_mean_a, ncols)\n",
        "col_matrix_b = broadcast_column(col_mean_b, ncols)\n",
        "print(col_matrix_a[0])  #[17.82, 17.82, 17.82, 17.82, 17.82, 17.82, 17.82, 17.82, ...\n",
        "print(col_matrix_a[1])  #[23.74, 23.74, 23.74, 23.74, 23.74, 23.74, 23.74, 23.74, ..."
      ],
      "execution_count": null,
      "outputs": []
    },
    {
      "cell_type": "markdown",
      "metadata": {
        "id": "8yWYdI7zplaA"
      },
      "source": [
        "##Now we are ready to subtract\n",
        "\n",
        "<img src = 'https://www.dropbox.com/s/tz58t3e6yqcaaou/Screen%20Shot%202021-09-14%20at%209.51.26%20AM.png?raw=1' height=100>\n",
        "\n",
        "Let's dig a little deeper into this. I will choose values `j=2` and `k=4`. With 0 indexing, that represents the 3rd and 5th item in the original list.\n",
        "\n",
        "* `aj,k` represents the absolute difference between the 3rd and 5th item in our original list.\n",
        "\n",
        "* `aj. bar` actually could be read as `aj,k bar` where the dot is filled with `k`. It represents the mean of the difference of all points from item `k=4`. Remember all rows identical so can ignore `j`.\n",
        "\n",
        "* So for absolute diff between items 2 and 4, we are subtracting the mean of all diffs from item 4.\n",
        "\n",
        "* We next subtract the mean of all diffs from item 2. We throw `k` away because we just repeat the columns.\n",
        "\n",
        "So big picture, we first take the absolute diff between 2 items in our original list, item `j` and item `k`. But then we first subtract the mean of all the diffs from item `k`. Next we subtract the mean of all the diffs from item `j`. In essence, we are tempering the difference between the two items by how clustered points are around the first item and how clustered around second item. If the means are small (i.e., clustering happening), then the absolute difference between the items will dominate. If the means are large, then even a large absolute difference will be washed out."
      ]
    },
    {
      "cell_type": "code",
      "metadata": {
        "id": "AL-epTf4g3f_"
      },
      "source": [
        "def matrix_matrix_substraction(mat1, mat2):\n",
        "  assert len(mat1)==len(mat2)\n",
        "  assert len(mat1[0])==len(mat2[0])\n",
        "\n",
        "  #your code below - I combined a for loop with a list comprehension\n",
        "\n",
        "\n",
        "A1 = matrix_matrix_substraction(dmatrix_a, row_matrix_a)\n",
        "A2 = matrix_matrix_substraction(A1, col_matrix_a)\n",
        "B1 = matrix_matrix_substraction(dmatrix_b, row_matrix_b)\n",
        "B2 = matrix_matrix_substraction(B1, col_matrix_b)\n",
        "print(A1[0])  #[-17.82, -16.74, -11.2, -16.94, 8.2, -16.32, 6.359999999999999, 10.38, 4.199999999999999, 12.76,\n",
        "print(A1[1])  #[-10.82, -23.74, -4.199999999999999, -19.94, 15.2, -23.32, 13.36, 17.380000000000003, 11.2,\n",
        "print(A2[0])  #[-35.64, -34.56, -29.02, -34.760000000000005, -9.620000000000001, -34.14, -11.46, \n",
        "print(A2[1])  #[-34.56, -47.48, -27.939999999999998, -43.68, -8.54, -47.06, -10.379999999999999,"
      ],
      "execution_count": null,
      "outputs": []
    },
    {
      "cell_type": "markdown",
      "metadata": {
        "id": "X2KZ0g10p42L"
      },
      "source": [
        "##Next step is to compute the grand mean\n",
        "\n",
        "This is the `+ a.. bar` step. Because I know we will need it later (I cheated and looked ahead), I am going to ask you to write a function to compute the sum of a matrix. Then can take result and divide to get grand mean."
      ]
    },
    {
      "cell_type": "code",
      "metadata": {
        "id": "U2gBlzf2kimX"
      },
      "source": [
        "#numpy: mat.flatten().sum()\n",
        "\n",
        "def matrix_summation(mat):\n",
        "  #your code below - I did not need a for loop\n",
        "\n",
        "\n",
        "grand_a = matrix_summation(dmatrix_a)/len(dmatrix_a)**2  #divide by 100*100 or 100**2\n",
        "grand_b = matrix_summation(dmatrix_b)/len(dmatrix_b)**2\n",
        "print(grand_a, grand_b)  #15.3948 46.920852000000004"
      ],
      "execution_count": null,
      "outputs": []
    },
    {
      "cell_type": "markdown",
      "metadata": {
        "id": "XeoFhxi7idJm"
      },
      "source": [
        "##Getting close\n",
        "\n",
        "We have to add the grand mean, a scalar, into a 100 by 100 matrix. We simply add the scalar to each element. Pretty easy."
      ]
    },
    {
      "cell_type": "code",
      "metadata": {
        "id": "luvIh9ecjGC0"
      },
      "source": [
        "#numpy: mat+scalar\n",
        "\n",
        "def matrix_scalar_addition(mat, scalar):\n",
        "  #your code below - I used a for loop and list comprehension combo\n",
        "\n",
        "\n",
        "A3 = matrix_scalar_addition(A2, grand_a)\n",
        "B3 = matrix_scalar_addition(B2, grand_b)\n",
        "print(A3[0])  #[-20.2452, -19.165200000000002, -13.6252, -19.365200000000005, 5.774799999999999, -18.7452,\n",
        "print(B3[0])  #[-19.48994799999999, 19.980852000000006, 19.980852000000006, 27.340852000000005, -19.48994799999999,"
      ],
      "execution_count": null,
      "outputs": []
    },
    {
      "cell_type": "markdown",
      "metadata": {
        "id": "rJjq7XkzjJ0b"
      },
      "source": [
        "##Step 4.3 Distance Co-variance\n",
        "\n",
        "So what we have now is our original distance matrices tempered by means. We did this for both Age and Fare. Now we can ask if these 2 matrices are similar, i.e., correlated. We will use an idea called co-variance that can be used to check correlation between two matrices.\n",
        "\n",
        "As reminder, the plain variance of a list of values is:\n",
        "\n",
        "<img src = 'https://www.dropbox.com/s/xm3mw6lb11qyv9n/Screen%20Shot%202021-09-14%20at%2011.14.09%20AM.png?raw=1' height=100>\n",
        "\n",
        "where X are the items in the list and mu is the mean of the list. Take the square root and you get the standard deviation.\n",
        "\n",
        "Co-variance between two list of values is:\n",
        "\n",
        "<img src='https://www.dropbox.com/s/m2g42kbzd8nx3lt/Screen%20Shot%202021-09-14%20at%2011.16.25%20AM.png?raw=1' height=70>\n",
        "\n",
        "We need the covariance not of 2 lists but of 2 distance matrices. That formula is below where  `Aj,k` and `Bj,k` stand in for matrices `A3` and `B3` above.\n",
        "\n",
        "<img src='https://www.dropbox.com/s/c874n3r5fw9ycng/Screen%20Shot%202021-08-27%20at%2010.00.33%20AM.png?raw=1' height=100>\n",
        "\n",
        "Not totally clear, but the double summation is summing a matrix multiplication (different than dot product) .\n",
        "\n",
        "We already have a function to give us the sum of 2 matrices. So what we need is a function that does matrix multiplication, different than dot product.\n",
        "\n",
        "<img src='https://www.dropbox.com/s/y0avojo7kejm4uw/Screen%20Shot%202021-08-26%20at%202.27.59%20PM.png?raw=1' height=150>"
      ]
    },
    {
      "cell_type": "code",
      "metadata": {
        "id": "JSOxeLM3kgmP"
      },
      "source": [
        "#numpy: mat1*mat2\n",
        "\n",
        "def matrix_multiplication(mat1, mat2):\n",
        "  #your code below - I used for loop and list comprehension combo\n",
        "\n",
        "\n",
        "#I am doing multiplication followed by addition then division in one line.\n",
        "dcov2_x_y = matrix_summation(matrix_multiplication(A3, B3))/(nrows*ncols)\n",
        "print(dcov2_x_y)  #23.020073329600006"
      ],
      "execution_count": null,
      "outputs": []
    },
    {
      "cell_type": "markdown",
      "metadata": {
        "id": "IX3bljlLsl2i"
      },
      "source": [
        "##Step 4.4 The denominator\n",
        "\n",
        "We now need to turn to the denominator. It asks for the variance of each matrix separately. We need something for this:\n",
        "\n",
        "<img src='https://www.dropbox.com/s/ikq5y3mazi048ob/Screen%20Shot%202021-08-27%20at%2010.39.35%20AM.png?raw=1' height=50>\n",
        "\n",
        "If we look carefuly, this is just like `dcov2_x_y` but now `dcov2_x_x` and `dcov2_y_y`. So we do not need a new function. We can reuse what we had for `dcov2_x_y` with some minor changes."
      ]
    },
    {
      "cell_type": "code",
      "metadata": {
        "id": "eXdEqSSvtJbT"
      },
      "source": [
        "dvar2_x = \n",
        "dvar2_y = \n",
        "print(dvar2_x, dvar2_y)  #74.35493904000002 731.9244968539043"
      ],
      "execution_count": null,
      "outputs": []
    },
    {
      "cell_type": "markdown",
      "metadata": {
        "id": "OZfqzIfXuMC4"
      },
      "source": [
        "##Step 4.5 Put it together in a function\n",
        "\n",
        "Reminder: here is the function we are trying to compute.\n",
        "\n",
        "<img src='https://www.dropbox.com/s/ywqbbd6qn8jchwu/Screen%20Shot%202021-08-27%20at%2010.44.29%20AM.png?raw=1' height=100>\n",
        "\n",
        "We have squared values in `dcov2_x_y`, `dvar2_x` and `dvar2_y`. So let's get the versions we need."
      ]
    },
    {
      "cell_type": "code",
      "metadata": {
        "id": "T8PzIfJZu1h6"
      },
      "source": [
        "dcov_x_y = \n",
        "dvar_x = \n",
        "dvar_y = \n",
        "print(dcov_x_y, dvar_x, dvar_y)  #4.797923856169459 8.622931000535724 27.05410314266404"
      ],
      "execution_count": null,
      "outputs": []
    },
    {
      "cell_type": "markdown",
      "metadata": {
        "id": "b0Xvv92GvUHv"
      },
      "source": [
        "##On home stretch!\n",
        "\n"
      ]
    },
    {
      "cell_type": "code",
      "metadata": {
        "id": "JmpOrxhnvwLN"
      },
      "source": [
        "dcor_x_y = \n",
        "dcor_x_y  #0.3141299355269013"
      ],
      "execution_count": null,
      "outputs": []
    },
    {
      "cell_type": "markdown",
      "metadata": {
        "id": "1IZ3BmG420Zw"
      },
      "source": [
        "##Now it's just copying and pasting into function"
      ]
    },
    {
      "cell_type": "code",
      "metadata": {
        "id": "s8-zrR1av3Im"
      },
      "source": [
        "def distance_correlation(a,b):\n",
        "  #your code here\n",
        " \n",
        "\n"
      ],
      "execution_count": null,
      "outputs": []
    },
    {
      "cell_type": "code",
      "metadata": {
        "id": "XMUitKr4Up4B"
      },
      "source": [
        "#test your function against oracle\n",
        "(distance_correlation(a,b), dc.distance_correlation(np.array(a),np.array(b)))"
      ],
      "execution_count": null,
      "outputs": []
    },
    {
      "cell_type": "markdown",
      "metadata": {
        "id": "k-l-ZxDSa_ZR"
      },
      "source": [
        "Another small test case."
      ]
    },
    {
      "cell_type": "code",
      "metadata": {
        "id": "vjBFaAsJbEQw"
      },
      "source": [
        "distance_correlation([1,2,3,4],[5,6,7,8])  #1.0"
      ],
      "execution_count": null,
      "outputs": []
    },
    {
      "cell_type": "markdown",
      "metadata": {
        "id": "CpS2NsN629Jt"
      },
      "source": [
        "##Whew - good job\n",
        "\n",
        "I think it is useful to do pure Python implementations of stats and linear algebra algorithms. Forces you to better understand what is going on."
      ]
    }
  ]
}